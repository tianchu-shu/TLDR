{
 "cells": [
  {
   "cell_type": "markdown",
   "metadata": {
    "colab_type": "text",
    "id": "srH4QkC2e540"
   },
   "source": [
    "# Sample artiles I used to test the code"
   ]
  },
  {
   "cell_type": "code",
   "execution_count": 1,
   "metadata": {
    "colab": {},
    "colab_type": "code",
    "id": "aZuFBuJAWFsg"
   },
   "outputs": [],
   "source": [
    "#Sample\n",
    "#Long article\n",
    "url = 'https://healthinformatics.uic.edu/blog/the-impact-of-health-informatics-on-nursing-practice/'\n",
    "\n",
    "#espn news\n",
    "url2= 'https://www.espn.com/mens-college-basketball/recap?gameId=401172466'\n",
    "\n",
    "#news from uic today\n",
    "url3 = 'https://engl.uic.edu/news-stories/3-million-gift-from-the-davee-foundation-to-support-english-history-scholarships/'\n",
    "\n",
    "#cbs local news\n",
    "url4 = 'https://chicago.cbslocal.com/2020/02/05/person-shot-on-blue-line-train-at-uic-halsted-stop/'"
   ]
  },
  {
   "cell_type": "markdown",
   "metadata": {
    "colab_type": "text",
    "id": "lzrRbh4MV8Hx"
   },
   "source": [
    "# First Attempt using Beautiful Soup to get a clean text from URL\n"
   ]
  },
  {
   "cell_type": "code",
   "execution_count": 2,
   "metadata": {
    "colab": {},
    "colab_type": "code",
    "id": "VTJ8P5vxbCK2"
   },
   "outputs": [],
   "source": [
    "import requests\n",
    "from bs4 import BeautifulSoup\n",
    "import re"
   ]
  },
  {
   "cell_type": "code",
   "execution_count": 3,
   "metadata": {
    "colab": {
     "base_uri": "https://localhost:8080/",
     "height": 71
    },
    "colab_type": "code",
    "id": "cOITcVLnh_cj",
    "outputId": "572fb2d1-a6e8-4449-ef27-f3923b23c408"
   },
   "outputs": [
    {
     "name": "stdout",
     "output_type": "stream",
     "text": [
      "MenuInformatics is changing the face of healthcare. As technology advances, healthcare organizations and providers are able to collect, analyze and leverage data more effectively, influencing the way care is delivered, resources are managed and teams operate each day. You would be hard-pressed to find an aspect of medicine that has yet to be touched by the mass collection and analysis of data that has been ushered in by the Information Age.One specific area that health informatics is having a significant impact on is the practice of nursing. Though the mission of nursing remains unchanged, the daily work of these professionals is being strongly influenced by informatics, with particular attention to the accuracy and communication of patient data and care.The nursing profession is rapidly changing to keep up with advancements and new challenges in the healthcare field. As direct caregivers, nurses are in the front lines of patient care and consequently often feel the impact of changes in best practices more immediately than other healthcare professionals.Spyros Kitsiou, Assistant Professor of Biomedical and Health Information Sciences at the University of Illinois at Chicago, reported that there are three specific challenges that healthcare is currently facing: the aging population, the incidence and prevalence of chronic diseases – such as cardiovascular disease, diabetes and pulmonary disease – and the shortage of doctors and nurses. Though these problems are diverse, there is a solution that addresses all three: data.“A lot of these challenges can be supported by the avocation of information and communication technologies, particularly as hospitals are becoming more and more interested in reducing their costs and shifting care from hospital care to home care,” Spyros said. “Information and communication technologies, mobile health devices, wearable technologies are all becoming very, very important for supporting remote patient monitoring and home care.”In nursing, as with healthcare in general, informatics is being used to address the challenges of the day, significantly impacting the way nurses function in patient care.One of the primary ways that informatics has changed nursing practice is through documentation. Gone are the days of paper charts that had to be meticulously updated with handwritten notes. Today, nurses are more likely to input notes into electronic health records and other systems that keep a patient’s medical history up-to-date and easily accessible.The Healthcare Information and Management Systems Society reported that as the result of electronic charting, nurses are able to obtain information quickly and efficiently, using the information to improve the daily workflow. Storing the information electronically is more easily available to all members of the care team, including the physician and other care providers, as well as staff teams at other healthcare organizations that the patient may visit. As the U.S. population becomes more mobile, it is increasingly important that their personal medical records can travel with them to any office or medical organization they may visit during their lifetime.Health informatics is also an important part of care coordination in nursing. The ability to track staffing, workflow and communication can help nurses to identify areas where current processes can be improved. This can also help ensure that staffing levels remain adequate, which is critical for providing patients with the best possible care. If the nurse-to-patient ratio drops too low, patients are more likely to suffer adverse results. Maintaining adequate levels helps nurses provide the best possible care each day without burning out.Evidence-based practices have long been an essential part of nursing. Today, determining those best practices involves the use of health informatics. Analyzing the mass quantities of data collected regarding patient care and outcomes helps to determine how best to treat these conditions and situations in the future. The more data that is collected and analyzed, the more accurate the resulting conclusions tend to be, providing the best possible information for determining how best to care for patients in the future.The growing role of informatics in nursing has also created a number of new job titles for those with clinical experience and an interest in working with data.Nurses at every level now work with informatics through patient records and other technology. However, some nurses choose to specifically focus their career on the intersection of informatics and clinical practice. There are a number of career options available in this lane, including the following:These roles can be found at every level and facet of healthcare organizations, including leadership and management, advocacy, risk analysis, compliance, consultation, research, evaluation and education. As informatics becomes a more prominent component of the nursing field, job opportunities will likely continue to develop.While health informatics roles are open to professionals from a variety of backgrounds, nurses are particularly well-suited for these roles due to their knowledge of clinical workflow, previous healthcare education and experience with healthcare technology and information systems.If you already have a clinical background in nursing, your next step en route to one of these jobs is to pursue training specifically in health informatics. Though there are several ways to do this, one option is to earn a Master of Science in Health Informatics degree. In a master’s program, you will take courses on important topics such as healthcare information systems, healthcare IT vendor management, health information systems analysis and design and organizational issues in health informatics to prepare for a career in health informatics.To complete your higher degree while continuing to work in the field, consider enrolling in UIC’s online . The convenient online format makes it easier than ever for you to balance your academic pursuits with existing professional and personal responsibilities. And UIC’s program is a great fit for nurses and others who wish to enter the informatics field from a clinical background.“People who are interested in integrating their clinical knowledge with the application of information technology or vice versa, would be very much interested in our program,” Kitsiou said. “And people who would like to even transition, make a career change and transition to healthcare would definitely be interested as long as they have a basic understanding of the healthcare system and also the application of IT.”With the right informatics training combined with your clinical background and existing medical knowledge, you could make a difference in patient care in a healthcare organization through a career in health informatics.http://www.himss.org/right-balance-technology-and-patient-care\n",
      "https://www.healthcare-informatics.com/article/ehr/nursing-informatics-leader-parses-challenges-ehr-optimization\n"
     ]
    }
   ],
   "source": [
    "res = requests.get(url)\n",
    "html_page = res.content\n",
    "soup = BeautifulSoup(html_page, 'html.parser')\n",
    "text = soup.find_all(text=True)\n",
    "\n",
    "output = ''\n",
    "\n",
    "for t in text:\n",
    "\tif t.parent.name == 'p':\n",
    "\t\toutput += '{}'.format(t)\n",
    "print(output)"
   ]
  },
  {
   "cell_type": "code",
   "execution_count": 4,
   "metadata": {
    "colab": {
     "base_uri": "https://localhost:8080/",
     "height": 34
    },
    "colab_type": "code",
    "id": "6Tn0fDZriaI1",
    "outputId": "1d45c6a5-06e0-4040-d255-5f2b7cfe5769"
   },
   "outputs": [
    {
     "name": "stdout",
     "output_type": "stream",
     "text": [
      "Impact of health informatics on nursing\n"
     ]
    }
   ],
   "source": [
    "title = soup.title\n",
    "titleText = title.get_text()\n",
    "print(titleText)"
   ]
  },
  {
   "cell_type": "code",
   "execution_count": 5,
   "metadata": {
    "colab": {},
    "colab_type": "code",
    "id": "HFiXAd4aWUdx"
   },
   "outputs": [],
   "source": [
    "from gensim.summarization.summarizer import summarize\n",
    "result= summarize(output, word_count=150, split=True)"
   ]
  },
  {
   "cell_type": "code",
   "execution_count": 6,
   "metadata": {
    "colab": {},
    "colab_type": "code",
    "id": "M4Y0RrjDB-fA"
   },
   "outputs": [],
   "source": [
    "#cleaning the text\n",
    "import re\n",
    "clean =[]\n",
    "for s in result:\n",
    "    s = s.replace('\\n', ' ').replace('\\t', ' ')\n",
    "    clean.append(s)"
   ]
  },
  {
   "cell_type": "code",
   "execution_count": 7,
   "metadata": {
    "colab": {
     "base_uri": "https://localhost:8080/",
     "height": 71
    },
    "colab_type": "code",
    "id": "wLk-jz0RYb_G",
    "outputId": "0091f82c-4e20-4ea0-f1a9-1dbc778fce45"
   },
   "outputs": [
    {
     "name": "stdout",
     "output_type": "stream",
     "text": [
      "Though the mission of nursing remains unchanged, the daily work of these professionals is being strongly influenced by informatics, with particular attention to the accuracy and communication of patient data and care.The nursing profession is rapidly changing to keep up with advancements and new challenges in the healthcare field.\n",
      "As direct caregivers, nurses are in the front lines of patient care and consequently often feel the impact of changes in best practices more immediately than other healthcare professionals.Spyros Kitsiou, Assistant Professor of Biomedical and Health Information Sciences at the University of Illinois at Chicago, reported that there are three specific challenges that healthcare is currently facing: the aging population, the incidence and prevalence of chronic diseases – such as cardiovascular disease, diabetes and pulmonary disease – and the shortage of doctors and nurses.\n"
     ]
    }
   ],
   "source": [
    "for line in clean:\n",
    "  print(line)"
   ]
  },
  {
   "cell_type": "markdown",
   "metadata": {
    "colab_type": "text",
    "id": "mrSBcbpabAxJ"
   },
   "source": [
    "#Final Decision using boilerpy3 library to extract text from url"
   ]
  },
  {
   "cell_type": "code",
   "execution_count": 8,
   "metadata": {
    "colab": {
     "base_uri": "https://localhost:8080/",
     "height": 34
    },
    "colab_type": "code",
    "id": "R8oDtRkVQ1TP",
    "outputId": "48f73500-9ce4-4581-d0ff-498b39ae336d"
   },
   "outputs": [
    {
     "name": "stdout",
     "output_type": "stream",
     "text": [
      "Collecting boilerpy3\n",
      "  Downloading boilerpy3-1.0.2-py3-none-any.whl (21 kB)\n",
      "Installing collected packages: boilerpy3\n",
      "Successfully installed boilerpy3-1.0.2\n"
     ]
    }
   ],
   "source": [
    "!pip3 install boilerpy3"
   ]
  },
  {
   "cell_type": "code",
   "execution_count": 9,
   "metadata": {
    "colab": {},
    "colab_type": "code",
    "id": "QgXZtoqHQ7lO"
   },
   "outputs": [],
   "source": [
    "from boilerpy3 import extractors\n",
    "extractor = extractors.ArticleExtractor()\n",
    "\n",
    "# From a URL\n",
    "content = extractor.get_content_from_url(url)"
   ]
  },
  {
   "cell_type": "code",
   "execution_count": 10,
   "metadata": {
    "colab": {
     "base_uri": "https://localhost:8080/",
     "height": 54
    },
    "colab_type": "code",
    "id": "ACkP0muBRIJJ",
    "outputId": "c0fd866a-632f-4cd3-a830-12ddf6f9b35b"
   },
   "outputs": [
    {
     "data": {
      "text/plain": [
       "'Home » Blog » The impact of health informatics on nursing practice\\nThe impact of health informatics on nursing practice\\nView all blog posts under Articles\\nInformatics is changing the face of healthcare. As technology advances, healthcare organizations and providers are able to collect, analyze and leverage data more effectively, influencing the way care is delivered, resources are managed and teams operate each day. You would be hard-pressed to find an aspect of medicine that has yet to be touched by the mass collection and analysis of data that has been ushered in by the Information Age.\\nOne specific area that health informatics is having a significant impact on is the practice of nursing. Though the mission of nursing remains unchanged, the daily work of these professionals is being strongly influenced by informatics, with particular attention to the accuracy and communication of patient data and care.\\nHealth informatics in nursing\\nThe nursing profession is rapidly changing to keep up with advancements and new challenges in the healthcare field. As direct caregivers, nurses are in the front lines of patient care and consequently often feel the impact of changes in best practices more immediately than other healthcare professionals.\\nSpyros Kitsiou, Assistant Professor of Biomedical and Health Information Sciences at the University of Illinois at Chicago, reported that there are three specific challenges that healthcare is currently facing: the aging population, the incidence and prevalence of chronic diseases – such as cardiovascular disease, diabetes and pulmonary disease – and the shortage of doctors and nurses. Though these problems are diverse, there is a solution that addresses all three: data.\\n“A lot of these challenges can be supported by the avocation of information and communication technologies, particularly as hospitals are becoming more and more interested in reducing their costs and shifting care from hospital care to home care,” Spyros said. “Information and communication technologies, mobile health devices, wearable technologies are all becoming very, very important for supporting remote patient monitoring and home care.”\\nIn nursing, as with healthcare in general, informatics is being used to address the challenges of the day, significantly impacting the way nurses function in patient care.\\nOne of the primary ways that informatics has changed nursing practice is through documentation. Gone are the days of paper charts that had to be meticulously updated with handwritten notes. Today, nurses are more likely to input notes into electronic health records and other systems that keep a patient’s medical history up-to-date and easily accessible.\\nThe Healthcare Information and Management Systems Society reported that as the result of electronic charting, nurses are able to obtain information quickly and efficiently, using the information to improve the daily workflow. Storing the information electronically is more easily available to all members of the care team, including the physician and other care providers, as well as staff teams at other healthcare organizations that the patient may visit. As the U.S. population becomes more mobile, it is increasingly important that their personal medical records can travel with them to any office or medical organization they may visit during their lifetime.\\nHealth informatics is also an important part of care coordination in nursing. The ability to track staffing, workflow and communication can help nurses to identify areas where current processes can be improved. This can also help ensure that staffing levels remain adequate, which is critical for providing patients with the best possible care. If the nurse-to-patient ratio drops too low, patients are more likely to suffer adverse results. Maintaining adequate levels helps nurses provide the best possible care each day without burning out.\\nEvidence-based practices have long been an essential part of nursing. Today, determining those best practices involves the use of health informatics. Analyzing the mass quantities of data collected regarding patient care and outcomes helps to determine how best to treat these conditions and situations in the future. The more data that is collected and analyzed, the more accurate the resulting conclusions tend to be, providing the best possible information for determining how best to care for patients in the future.\\nThe growing role of informatics in nursing has also created a number of new job titles for those with clinical experience and an interest in working with data.\\nA nursing career in informatics\\nNurses at every level now work with informatics through patient records and other technology. However, some nurses choose to specifically focus their career on the intersection of informatics and clinical practice. There are a number of career options available in this lane, including the following:\\nClinical informatics specialist\\n'"
      ]
     },
     "execution_count": 10,
     "metadata": {},
     "output_type": "execute_result"
    }
   ],
   "source": [
    "content"
   ]
  },
  {
   "cell_type": "code",
   "execution_count": 11,
   "metadata": {
    "colab": {},
    "colab_type": "code",
    "id": "SDZNpPnq1Jj1"
   },
   "outputs": [],
   "source": [
    "from gensim.summarization.summarizer import summarize\n",
    "rv = summarize(content, word_count=150, split=True)"
   ]
  },
  {
   "cell_type": "code",
   "execution_count": 12,
   "metadata": {
    "colab": {
     "base_uri": "https://localhost:8080/",
     "height": 34
    },
    "colab_type": "code",
    "id": "Hpm0EWnqeH6c",
    "outputId": "8d956759-0954-488e-8f8c-3e679d58ff21"
   },
   "outputs": [
    {
     "data": {
      "text/plain": [
       "5"
      ]
     },
     "execution_count": 12,
     "metadata": {},
     "output_type": "execute_result"
    }
   ],
   "source": [
    "#I use word_count as 150 to limit the summary to 4-5 sentences\n",
    "len(rv)"
   ]
  },
  {
   "cell_type": "code",
   "execution_count": 13,
   "metadata": {
    "colab": {
     "base_uri": "https://localhost:8080/",
     "height": 122
    },
    "colab_type": "code",
    "id": "p2Y9q03tlyTd",
    "outputId": "a9c62784-3d48-4042-c520-d69e6d6e5a57"
   },
   "outputs": [
    {
     "data": {
      "text/plain": [
       "['As technology advances, healthcare organizations and providers are able to collect, analyze and leverage data more effectively, influencing the way care is delivered, resources are managed and teams operate each day.',\n",
       " 'You would be hard-pressed to find an aspect of medicine that has yet to be touched by the mass collection and analysis of data that has been ushered in by the Information Age. One specific area that health informatics is having a significant impact on is the practice of nursing.',\n",
       " 'Though the mission of nursing remains unchanged, the daily work of these professionals is being strongly influenced by informatics, with particular attention to the accuracy and communication of patient data and care.',\n",
       " 'As direct caregivers, nurses are in the front lines of patient care and consequently often feel the impact of changes in best practices more immediately than other healthcare professionals.',\n",
       " 'Maintaining adequate levels helps nurses provide the best possible care each day without burning out.']"
      ]
     },
     "execution_count": 13,
     "metadata": {},
     "output_type": "execute_result"
    }
   ],
   "source": [
    "rv"
   ]
  },
  {
   "cell_type": "code",
   "execution_count": 14,
   "metadata": {
    "colab": {
     "base_uri": "https://localhost:8080/",
     "height": 122
    },
    "colab_type": "code",
    "id": "rRxHcHo6aLoz",
    "outputId": "030664ee-9a4b-4784-f6fd-6a10c18abea4"
   },
   "outputs": [
    {
     "name": "stdout",
     "output_type": "stream",
     "text": [
      "As technology advances, healthcare organizations and providers are able to collect, analyze and leverage data more effectively, influencing the way care is delivered, resources are managed and teams operate each day.\n",
      "You would be hard-pressed to find an aspect of medicine that has yet to be touched by the mass collection and analysis of data that has been ushered in by the Information Age. One specific area that health informatics is having a significant impact on is the practice of nursing.\n",
      "Though the mission of nursing remains unchanged, the daily work of these professionals is being strongly influenced by informatics, with particular attention to the accuracy and communication of patient data and care.\n",
      "As direct caregivers, nurses are in the front lines of patient care and consequently often feel the impact of changes in best practices more immediately than other healthcare professionals.\n",
      "Maintaining adequate levels helps nurses provide the best possible care each day without burning out.\n"
     ]
    }
   ],
   "source": [
    "for line in rv:\n",
    "  print(line)"
   ]
  },
  {
   "cell_type": "code",
   "execution_count": 15,
   "metadata": {
    "colab": {
     "base_uri": "https://localhost:8080/",
     "height": 51
    },
    "colab_type": "code",
    "id": "j7-W2XPIEN43",
    "outputId": "3e454740-3bcc-4d84-8572-92ed87fa3605"
   },
   "outputs": [
    {
     "name": "stderr",
     "output_type": "stream",
     "text": [
      "[nltk_data] Downloading package punkt to\n",
      "[nltk_data]     /Users/tianchushu/nltk_data...\n",
      "[nltk_data]   Package punkt is already up-to-date!\n",
      "[nltk_data] Downloading package stopwords to\n",
      "[nltk_data]     /Users/tianchushu/nltk_data...\n",
      "[nltk_data]   Package stopwords is already up-to-date!\n"
     ]
    },
    {
     "data": {
      "text/plain": [
       "True"
      ]
     },
     "execution_count": 15,
     "metadata": {},
     "output_type": "execute_result"
    }
   ],
   "source": [
    "#tokenzie the string into sentences\n",
    "import nltk\n",
    "from nltk import tokenize\n",
    "nltk.download('punkt')\n",
    "nltk.download('stopwords')"
   ]
  },
  {
   "cell_type": "markdown",
   "metadata": {
    "colab_type": "text",
    "id": "aFzXm2nmkh3h"
   },
   "source": [
    "# Final function"
   ]
  },
  {
   "cell_type": "code",
   "execution_count": 16,
   "metadata": {
    "colab": {
     "base_uri": "https://localhost:8080/",
     "height": 34
    },
    "colab_type": "code",
    "id": "RaQZa8txkjwK",
    "outputId": "6a0c06db-fe4d-4cb2-ab8f-246d1fbaeec6"
   },
   "outputs": [
    {
     "name": "stdout",
     "output_type": "stream",
     "text": [
      "/Users/tianchushu/Desktop\r\n"
     ]
    }
   ],
   "source": [
    "!pwd"
   ]
  },
  {
   "cell_type": "code",
   "execution_count": 21,
   "metadata": {},
   "outputs": [],
   "source": [
    "from utli import *"
   ]
  },
  {
   "cell_type": "code",
   "execution_count": 22,
   "metadata": {
    "colab": {
     "base_uri": "https://localhost:8080/",
     "height": 156
    },
    "colab_type": "code",
    "id": "GUP2cf1qmUqF",
    "outputId": "1ba197ca-b082-4837-fcc0-a77f7c864dd5"
   },
   "outputs": [
    {
     "name": "stdout",
     "output_type": "stream",
     "text": [
      "The original link is: https://dailyillini.com/news/2020/02/06/students-administration-tackle-university-mental-health-misconceptions/\n",
      "The summary is:\n"
     ]
    },
    {
     "data": {
      "text/plain": [
       "['In 2020, University administration and student activists are joining forces in unprecedented ways to tackle mental health care shortcomings and debunk student misconceptions.',\n",
       " '“If every professor just put two lines on there, like how they’re required to put the DRES information, saying this is the crisis line, this is the Counseling Center, I think that could reach a lot more students,” Cleetus said.',\n",
       " '“When students believe you can’t get into the Counseling Center, or you’re only going to see somebody who’s not trained there, or they’re mean or something like that, it keeps people from accessing the services,” McCowan said.',\n",
       " 'Cleetus said she has heard stories of bad appointments at the Counseling Center, though she wonders how many of them are due to a poor counselor-student connection.',\n",
       " 'On the horizon is recently passed Illinois House Bill 2152 , Mental Health Early Action on Campus Act, which specifies the ratio of one non-student counselor for every 1,250 students for University counseling centers.']"
      ]
     },
     "execution_count": 22,
     "metadata": {},
     "output_type": "execute_result"
    }
   ],
   "source": [
    "tldr(\"https://dailyillini.com/news/2020/02/06/students-administration-tackle-university-mental-health-misconceptions/\")"
   ]
  },
  {
   "cell_type": "code",
   "execution_count": 23,
   "metadata": {
    "colab": {
     "base_uri": "https://localhost:8080/",
     "height": 156
    },
    "colab_type": "code",
    "id": "awKeMDkjmemy",
    "outputId": "095cd1c5-108e-424a-8a55-841abdeeb6ae"
   },
   "outputs": [
    {
     "name": "stdout",
     "output_type": "stream",
     "text": [
      "The original link is: https://healthinformatics.uic.edu/blog/the-impact-of-health-informatics-on-nursing-practice/\n",
      "The summary is:\n"
     ]
    },
    {
     "data": {
      "text/plain": [
       "['As technology advances, healthcare organizations and providers are able to collect, analyze and leverage data more effectively, influencing the way care is delivered, resources are managed and teams operate each day.',\n",
       " 'You would be hard-pressed to find an aspect of medicine that has yet to be touched by the mass collection and analysis of data that has been ushered in by the Information Age. One specific area that health informatics is having a significant impact on is the practice of nursing.',\n",
       " 'Though the mission of nursing remains unchanged, the daily work of these professionals is being strongly influenced by informatics, with particular attention to the accuracy and communication of patient data and care.',\n",
       " 'As direct caregivers, nurses are in the front lines of patient care and consequently often feel the impact of changes in best practices more immediately than other healthcare professionals.',\n",
       " 'Maintaining adequate levels helps nurses provide the best possible care each day without burning out.']"
      ]
     },
     "execution_count": 23,
     "metadata": {},
     "output_type": "execute_result"
    }
   ],
   "source": [
    "tldr()"
   ]
  }
 ],
 "metadata": {
  "colab": {
   "collapsed_sections": [
    "lzrRbh4MV8Hx",
    "mrSBcbpabAxJ"
   ],
   "name": "TLDR.ipynb",
   "provenance": []
  },
  "kernelspec": {
   "display_name": "Python 3",
   "language": "python",
   "name": "python3"
  },
  "language_info": {
   "codemirror_mode": {
    "name": "ipython",
    "version": 3
   },
   "file_extension": ".py",
   "mimetype": "text/x-python",
   "name": "python",
   "nbconvert_exporter": "python",
   "pygments_lexer": "ipython3",
   "version": "3.7.3"
  }
 },
 "nbformat": 4,
 "nbformat_minor": 1
}
