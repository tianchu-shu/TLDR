{
  "nbformat": 4,
  "nbformat_minor": 0,
  "metadata": {
    "colab": {
      "name": "TLDR.ipynb",
      "provenance": [],
      "collapsed_sections": []
    },
    "kernelspec": {
      "display_name": "Python 3",
      "language": "python",
      "name": "python3"
    },
    "language_info": {
      "codemirror_mode": {
        "name": "ipython",
        "version": 3
      },
      "file_extension": ".py",
      "mimetype": "text/x-python",
      "name": "python",
      "nbconvert_exporter": "python",
      "pygments_lexer": "ipython3",
      "version": "3.7.3"
    }
  },
  "cells": [
    {
      "cell_type": "markdown",
      "metadata": {
        "colab_type": "text",
        "id": "srH4QkC2e540"
      },
      "source": [
        "# Sample artiles I used to test the code"
      ]
    },
    {
      "cell_type": "code",
      "metadata": {
        "colab_type": "code",
        "id": "aZuFBuJAWFsg",
        "colab": {}
      },
      "source": [
        "#Sample\n",
        "#Long article\n",
        "url = 'https://healthinformatics.uic.edu/blog/the-impact-of-health-informatics-on-nursing-practice/'\n",
        "\n",
        "#short article\n",
        "url1 = \"https://today.uic.edu/bringing-the-farm-to-the-dining-halls\"\n",
        "\n",
        "#espn news\n",
        "url2= 'https://www.espn.com/mens-college-basketball/recap?gameId=401172466'\n",
        "\n",
        "#news from uic today\n",
        "url3 = 'https://engl.uic.edu/news-stories/3-million-gift-from-the-davee-foundation-to-support-english-history-scholarships/'\n",
        "\n",
        "#cbs local news\n",
        "url4 = 'https://chicago.cbslocal.com/2020/02/05/person-shot-on-blue-line-train-at-uic-halsted-stop/'"
      ],
      "execution_count": 0,
      "outputs": []
    },
    {
      "cell_type": "markdown",
      "metadata": {
        "colab_type": "text",
        "id": "lzrRbh4MV8Hx"
      },
      "source": [
        "# First Attempt using Beautiful Soup And regular expression get a clean text from URL\n"
      ]
    },
    {
      "cell_type": "code",
      "metadata": {
        "colab_type": "code",
        "id": "VTJ8P5vxbCK2",
        "colab": {}
      },
      "source": [
        "import requests\n",
        "from bs4 import BeautifulSoup\n",
        "import re"
      ],
      "execution_count": 0,
      "outputs": []
    },
    {
      "cell_type": "code",
      "metadata": {
        "colab_type": "code",
        "id": "cOITcVLnh_cj",
        "colab": {}
      },
      "source": [
        "res = requests.get(url1)\n",
        "html_page = res.content\n",
        "soup = BeautifulSoup(html_page, 'html.parser')\n",
        "text = soup.find_all(text=True)\n",
        "\n",
        "output = ''\n",
        "\n",
        "for t in text:\n",
        "\tif t.parent.name == 'p':\n",
        "\t\toutput += '{}'.format(t)"
      ],
      "execution_count": 0,
      "outputs": []
    },
    {
      "cell_type": "code",
      "metadata": {
        "colab_type": "code",
        "id": "6Tn0fDZriaI1",
        "outputId": "91aa75d5-4013-46e4-b21b-c5680735b434",
        "colab": {
          "base_uri": "https://localhost:8080/",
          "height": 34
        }
      },
      "source": [
        "title = soup.title\n",
        "titleText = title.get_text()\n",
        "print(titleText)"
      ],
      "execution_count": 0,
      "outputs": [
        {
          "output_type": "stream",
          "text": [
            "Bringing the farm to the dining halls | UIC Today\n"
          ],
          "name": "stdout"
        }
      ]
    },
    {
      "cell_type": "code",
      "metadata": {
        "colab_type": "code",
        "id": "HFiXAd4aWUdx",
        "colab": {}
      },
      "source": [
        "from gensim.summarization.summarizer import summarize\n",
        "result= summarize(output, word_count=150, split=True)"
      ],
      "execution_count": 0,
      "outputs": []
    },
    {
      "cell_type": "code",
      "metadata": {
        "colab_type": "code",
        "id": "M4Y0RrjDB-fA",
        "colab": {}
      },
      "source": [
        "#cleaning the text\n",
        "import re\n",
        "clean =[]\n",
        "for s in result:\n",
        "    s = s.replace('\\n', ' ').replace('\\t', ' ')\n",
        "    clean.append(s)"
      ],
      "execution_count": 0,
      "outputs": []
    },
    {
      "cell_type": "code",
      "metadata": {
        "colab_type": "code",
        "id": "wLk-jz0RYb_G",
        "outputId": "a209c0a1-1b49-4d4a-e7f3-77bd2d938391",
        "colab": {
          "base_uri": "https://localhost:8080/",
          "height": 173
        }
      },
      "source": [
        "for line in clean:\n",
        "  print(line)"
      ],
      "execution_count": 0,
      "outputs": [
        {
          "output_type": "stream",
          "text": [
            "February 4, 2020   UIC Dining Services is bringing the farm to the dining hall with new, eco-friendly Farmshelfs throughout campus.\n",
            "The indoor, bookcase-size farms grow organic, fresh herbs and greens that UIC students can enjoy in their meals in campus dining halls.\n",
            "The six units are currently housed in the Stukel Towers dining hall and the East Terrace dining hall in SCE.\n",
            "They also are used for catered events on campus.Farmshelf also brings sustainable benefits to campus.\n",
            "Since the plants are grown in-house, there is no need to burn fuel in transportation, lessening UIC’s carbon footprint.\n",
            "UIC also is minimizing the excess use of water on vegetation by 90%, as well as reducing packaging waste.\n",
            "The Farmshelf uses high-tech, energy-efficient LED lights that not only improve taste, but also maximize the nutrient density.\n",
            "“The cooks love the new Farmshelfs and can cut crop such as arugula straight from the shelf,” said Sean Gordon, senior director of dining.\n"
          ],
          "name": "stdout"
        }
      ]
    },
    {
      "cell_type": "markdown",
      "metadata": {
        "colab_type": "text",
        "id": "mrSBcbpabAxJ"
      },
      "source": [
        "#Final Decision using boilerpy3 library to extract text from url"
      ]
    },
    {
      "cell_type": "code",
      "metadata": {
        "colab_type": "code",
        "id": "R8oDtRkVQ1TP",
        "outputId": "48f73500-9ce4-4581-d0ff-498b39ae336d",
        "colab": {
          "base_uri": "https://localhost:8080/",
          "height": 34
        }
      },
      "source": [
        "!pip3 install boilerpy3"
      ],
      "execution_count": 0,
      "outputs": [
        {
          "output_type": "stream",
          "text": [
            "Collecting boilerpy3\n",
            "  Downloading boilerpy3-1.0.2-py3-none-any.whl (21 kB)\n",
            "Installing collected packages: boilerpy3\n",
            "Successfully installed boilerpy3-1.0.2\n"
          ],
          "name": "stdout"
        }
      ]
    },
    {
      "cell_type": "code",
      "metadata": {
        "colab_type": "code",
        "id": "QgXZtoqHQ7lO",
        "colab": {}
      },
      "source": [
        "from boilerpy3 import extractors\n",
        "extractor = extractors.ArticleExtractor()\n",
        "\n",
        "# From a URL\n",
        "content = extractor.get_content_from_url(url1)"
      ],
      "execution_count": 0,
      "outputs": []
    },
    {
      "cell_type": "code",
      "metadata": {
        "colab_type": "code",
        "id": "ACkP0muBRIJJ",
        "outputId": "a1e33083-ef4d-497c-9616-4c917fe9cd89",
        "colab": {
          "base_uri": "https://localhost:8080/",
          "height": 54
        }
      },
      "source": [
        "content"
      ],
      "execution_count": 0,
      "outputs": [
        {
          "output_type": "execute_result",
          "data": {
            "text/plain": [
              "'Bringing the farm to the dining halls\\nFebruary 4, 2020\\nPhoto: UIC Dining Services\\nUIC Dining Services is bringing the farm to the dining hall with new, eco-friendly Farmshelfs throughout campus.\\nThe indoor, bookcase-size farms grow organic, fresh herbs and greens that UIC students can enjoy in their meals in campus dining halls. The six units are currently housed in the Stukel Towers dining hall and the East Terrace dining hall in SCE. They also are used for catered events on campus.\\nFarmshelf also brings sustainable benefits to campus. Since the plants are grown in-house, there is no need to burn fuel in transportation, lessening UIC’s carbon footprint. UIC also is minimizing the excess use of water on vegetation by 90%, as well as reducing packaging waste. The Farmshelf uses high-tech, energy-efficient LED lights that not only improve taste, but also maximize the nutrient density.\\n“The cooks love the new Farmshelfs and can cut crop such as arugula straight from the shelf,” said Sean Gordon, senior director of dining. “You can’t get any fresher than that.”\\nContact\\n'"
            ]
          },
          "metadata": {
            "tags": []
          },
          "execution_count": 98
        }
      ]
    },
    {
      "cell_type": "code",
      "metadata": {
        "colab_type": "code",
        "id": "SDZNpPnq1Jj1",
        "colab": {}
      },
      "source": [
        "from gensim.summarization.summarizer import summarize\n",
        "rv = summarize(content,  split=True)"
      ],
      "execution_count": 0,
      "outputs": []
    },
    {
      "cell_type": "code",
      "metadata": {
        "colab_type": "code",
        "id": "rRxHcHo6aLoz",
        "outputId": "1d8d1b94-4186-42d3-8d78-8ef17f89ad97",
        "colab": {
          "base_uri": "https://localhost:8080/",
          "height": 71
        }
      },
      "source": [
        "for line in rv:\n",
        "  print(line)"
      ],
      "execution_count": 0,
      "outputs": [
        {
          "output_type": "stream",
          "text": [
            "UIC Dining Services is bringing the farm to the dining hall with new, eco-friendly Farmshelfs throughout campus.\n",
            "The indoor, bookcase-size farms grow organic, fresh herbs and greens that UIC students can enjoy in their meals in campus dining halls.\n"
          ],
          "name": "stdout"
        }
      ]
    },
    {
      "cell_type": "markdown",
      "metadata": {
        "colab_type": "text",
        "id": "aFzXm2nmkh3h"
      },
      "source": [
        "# Final function"
      ]
    },
    {
      "cell_type": "code",
      "metadata": {
        "id": "JpGExfT0r2qX",
        "colab_type": "code",
        "colab": {}
      },
      "source": [
        "from utli import *"
      ],
      "execution_count": 0,
      "outputs": []
    },
    {
      "cell_type": "code",
      "metadata": {
        "id": "p2XNUc82vPv-",
        "colab_type": "code",
        "colab": {}
      },
      "source": [
        "from boilerpy3 import extractors\n",
        "from gensim.summarization.summarizer import summarize\n",
        "\n",
        "#Sample\n",
        "#Long article\n",
        "sample = 'https://healthinformatics.uic.edu/blog/the-impact-of-health-informatics-on-nursing-practice/'\n",
        "\n",
        "def tldr(link= sample):\n",
        "    '''\n",
        "    Produces a coherent summary in 4-5 sentences from a given url \n",
        "    Inputs:\n",
        "        link: (string) the url of the webpage\n",
        "    Returns: a list of string\n",
        "    '''\n",
        "    #I use word_count as 150 to limit the summary to 4-5 sentences\n",
        "    wc =150\n",
        "\n",
        "    extractor = extractors.ArticleExtractor()\n",
        "    # From a URL\n",
        "    content = extractor.get_content_from_url(str(link))\n",
        "    \n",
        "    \n",
        "    rv = summarize(content, word_count=wc, split=True)\n",
        "    #If summary is more than 5 sentences, decreas the word count\n",
        "    while len(rv) >5:\n",
        "      wc -= 10\n",
        "      rv = summarize(content, word_count=wc, split=True)\n",
        "      \n",
        "      \n",
        "    print(\"The original link is: \" + link )\n",
        "    print(\"The summary is:\")\n",
        "    return rv"
      ],
      "execution_count": 0,
      "outputs": []
    },
    {
      "cell_type": "code",
      "metadata": {
        "colab_type": "code",
        "id": "GUP2cf1qmUqF",
        "outputId": "f4d9e83d-48f4-4948-ce1d-065db2a2ba91",
        "colab": {
          "base_uri": "https://localhost:8080/",
          "height": 156
        }
      },
      "source": [
        "tldr(\"https://dailyillini.com/news/2020/02/06/students-administration-tackle-university-mental-health-misconceptions/\")"
      ],
      "execution_count": 0,
      "outputs": [
        {
          "output_type": "stream",
          "text": [
            "The original link is: https://dailyillini.com/news/2020/02/06/students-administration-tackle-university-mental-health-misconceptions/\n",
            "The summary is:\n"
          ],
          "name": "stdout"
        },
        {
          "output_type": "execute_result",
          "data": {
            "text/plain": [
              "['In 2020, University administration and student activists are joining forces in unprecedented ways to tackle mental health care shortcomings and debunk student misconceptions.',\n",
              " '“If every professor just put two lines on there, like how they’re required to put the DRES information, saying this is the crisis line, this is the Counseling Center, I think that could reach a lot more students,” Cleetus said.',\n",
              " '“When students believe you can’t get into the Counseling Center, or you’re only going to see somebody who’s not trained there, or they’re mean or something like that, it keeps people from accessing the services,” McCowan said.',\n",
              " 'Cleetus said she has heard stories of bad appointments at the Counseling Center, though she wonders how many of them are due to a poor counselor-student connection.',\n",
              " 'On the horizon is recently passed Illinois House Bill 2152 , Mental Health Early Action on Campus Act, which specifies the ratio of one non-student counselor for every 1,250 students for University counseling centers.']"
            ]
          },
          "metadata": {
            "tags": []
          },
          "execution_count": 121
        }
      ]
    },
    {
      "cell_type": "code",
      "metadata": {
        "colab_type": "code",
        "id": "awKeMDkjmemy",
        "outputId": "8f54ef4c-0f10-4285-e9c3-c69c77036ba5",
        "colab": {
          "base_uri": "https://localhost:8080/",
          "height": 156
        }
      },
      "source": [
        "tldr()"
      ],
      "execution_count": 0,
      "outputs": [
        {
          "output_type": "stream",
          "text": [
            "The original link is: https://healthinformatics.uic.edu/blog/the-impact-of-health-informatics-on-nursing-practice/\n",
            "The summary is:\n"
          ],
          "name": "stdout"
        },
        {
          "output_type": "execute_result",
          "data": {
            "text/plain": [
              "['As technology advances, healthcare organizations and providers are able to collect, analyze and leverage data more effectively, influencing the way care is delivered, resources are managed and teams operate each day.',\n",
              " 'You would be hard-pressed to find an aspect of medicine that has yet to be touched by the mass collection and analysis of data that has been ushered in by the Information Age. One specific area that health informatics is having a significant impact on is the practice of nursing.',\n",
              " 'Though the mission of nursing remains unchanged, the daily work of these professionals is being strongly influenced by informatics, with particular attention to the accuracy and communication of patient data and care.',\n",
              " 'As direct caregivers, nurses are in the front lines of patient care and consequently often feel the impact of changes in best practices more immediately than other healthcare professionals.',\n",
              " 'Maintaining adequate levels helps nurses provide the best possible care each day without burning out.']"
            ]
          },
          "metadata": {
            "tags": []
          },
          "execution_count": 122
        }
      ]
    },
    {
      "cell_type": "code",
      "metadata": {
        "id": "Z2RLdljNtAv2",
        "colab_type": "code",
        "outputId": "a999108e-fa97-41bb-b336-7d23f4392867",
        "colab": {
          "base_uri": "https://localhost:8080/",
          "height": 156
        }
      },
      "source": [
        "tldr(\"https://today.uic.edu/bringing-the-farm-to-the-dining-halls\")"
      ],
      "execution_count": 0,
      "outputs": [
        {
          "output_type": "stream",
          "text": [
            "The original link is: https://today.uic.edu/bringing-the-farm-to-the-dining-halls\n",
            "The summary is:\n"
          ],
          "name": "stdout"
        },
        {
          "output_type": "execute_result",
          "data": {
            "text/plain": [
              "['Bringing the farm to the dining halls',\n",
              " 'Photo: UIC Dining Services',\n",
              " 'UIC Dining Services is bringing the farm to the dining hall with new, eco-friendly Farmshelfs throughout campus.',\n",
              " 'The indoor, bookcase-size farms grow organic, fresh herbs and greens that UIC students can enjoy in their meals in campus dining halls.',\n",
              " 'Farmshelf also brings sustainable benefits to campus.']"
            ]
          },
          "metadata": {
            "tags": []
          },
          "execution_count": 129
        }
      ]
    },
    {
      "cell_type": "code",
      "metadata": {
        "id": "L95KXQPotCDO",
        "colab_type": "code",
        "outputId": "817079ce-96f2-4369-b107-7c5be360633a",
        "colab": {
          "base_uri": "https://localhost:8080/",
          "height": 156
        }
      },
      "source": [
        "tldr(url3)"
      ],
      "execution_count": 0,
      "outputs": [
        {
          "output_type": "stream",
          "text": [
            "The original link is: https://engl.uic.edu/news-stories/3-million-gift-from-the-davee-foundation-to-support-english-history-scholarships/\n",
            "The summary is:\n"
          ],
          "name": "stdout"
        },
        {
          "output_type": "execute_result",
          "data": {
            "text/plain": [
              "['$3 million gift from The Davee Foundation to support English & history scholarships',\n",
              " 'The $3 million endowment will be the final gift from The Davee Foundation, which closes at the end of the year.',\n",
              " 'The terms of the endowment require at least two Chicago students to be selected each year, one in each discipline, to have all costs covered.',\n",
              " '\"In 1964 the couple founded The Davee Foundation, which demonstrated a Chicago-centric philanthropic commitment in its support of a wide variety of cultural, scientific, public affairs and educational entities.',\n",
              " '\"Ruth Dunbar Davee, who married Ken in 1988, graduated from the University of Illinois at Urbana-Champaign in 1935 with a bachelor’s degree in English.']"
            ]
          },
          "metadata": {
            "tags": []
          },
          "execution_count": 130
        }
      ]
    },
    {
      "cell_type": "code",
      "metadata": {
        "id": "gdvR24bfunQS",
        "colab_type": "code",
        "colab": {}
      },
      "source": [
        ""
      ],
      "execution_count": 0,
      "outputs": []
    }
  ]
}