{
 "cells": [
  {
   "cell_type": "code",
   "execution_count": null,
   "metadata": {
    "colab": {
     "base_uri": "https://localhost:8080/",
     "height": 122
    },
    "colab_type": "code",
    "id": "jXznNLVtoA8o",
    "outputId": "91870eda-39c8-4551-e6c3-6c21b9d8c029"
   },
   "outputs": [],
   "source": [
    "from google.colab import drive\n",
    "drive.mount('/content/gdrive')"
   ]
  },
  {
   "cell_type": "code",
   "execution_count": null,
   "metadata": {
    "colab": {},
    "colab_type": "code",
    "id": "-ANhX1CMoNHk"
   },
   "outputs": [],
   "source": [
    "import glob, os\n",
    "\n",
    "data_dir= '/content/gdrive/My Drive/01 BX DSMP Case Study_2020/'\n",
    "os.chdir(data_dir)"
   ]
  },
  {
   "cell_type": "code",
   "execution_count": 2,
   "metadata": {
    "colab": {
     "base_uri": "https://localhost:8080/",
     "height": 71
    },
    "colab_type": "code",
    "id": "9KSBrSgenxdA",
    "outputId": "042f12db-3fd3-455e-c56d-53aeffaafc27"
   },
   "outputs": [],
   "source": [
    "import numpy as np\n",
    "import pandas as pd\n",
    "import matplotlib.pyplot as plt\n",
    "import seaborn as sns; sns.set()\n",
    "import datetime as dt  \n",
    "import pipeline as pp"
   ]
  },
  {
   "cell_type": "code",
   "execution_count": 3,
   "metadata": {
    "colab": {},
    "colab_type": "code",
    "id": "MJZO4-9pnxdG"
   },
   "outputs": [],
   "source": [
    "df = pd.read_csv(\"dsmp_takehome_2020.csv\")"
   ]
  },
  {
   "cell_type": "markdown",
   "metadata": {
    "colab_type": "text",
    "id": "_E7UFNSpFZZg"
   },
   "source": [
    "# Part 1 - Sumamry statistics and plots\n",
    "## 1) Calculate the Profit Margin = (Net Profit/Gross revenue) * 100"
   ]
  },
  {
   "cell_type": "code",
   "execution_count": 4,
   "metadata": {
    "colab": {
     "base_uri": "https://localhost:8080/",
     "height": 421
    },
    "colab_type": "code",
    "id": "-h9fkEF_RS7f",
    "outputId": "d6af23e6-e2ed-47fa-b139-cc8ce0a938f1"
   },
   "outputs": [
    {
     "data": {
      "text/html": [
       "<div>\n",
       "<style scoped>\n",
       "    .dataframe tbody tr th:only-of-type {\n",
       "        vertical-align: middle;\n",
       "    }\n",
       "\n",
       "    .dataframe tbody tr th {\n",
       "        vertical-align: top;\n",
       "    }\n",
       "\n",
       "    .dataframe thead th {\n",
       "        text-align: right;\n",
       "    }\n",
       "</style>\n",
       "<table border=\"1\" class=\"dataframe\">\n",
       "  <thead>\n",
       "    <tr style=\"text-align: right;\">\n",
       "      <th></th>\n",
       "      <th>Location number</th>\n",
       "      <th>Month</th>\n",
       "      <th>State</th>\n",
       "      <th>Gross revenue</th>\n",
       "      <th>Fixed cost</th>\n",
       "      <th>Variable cost</th>\n",
       "      <th>Rental cost</th>\n",
       "      <th>Number of products</th>\n",
       "      <th>Owned</th>\n",
       "    </tr>\n",
       "  </thead>\n",
       "  <tbody>\n",
       "    <tr>\n",
       "      <th>0</th>\n",
       "      <td>1</td>\n",
       "      <td>1</td>\n",
       "      <td>TX</td>\n",
       "      <td>48628171.02</td>\n",
       "      <td>9218156.69</td>\n",
       "      <td>24278189.23</td>\n",
       "      <td>365880</td>\n",
       "      <td>4452</td>\n",
       "      <td>False</td>\n",
       "    </tr>\n",
       "    <tr>\n",
       "      <th>1</th>\n",
       "      <td>1</td>\n",
       "      <td>2</td>\n",
       "      <td>TX</td>\n",
       "      <td>48107179.24</td>\n",
       "      <td>10587747.35</td>\n",
       "      <td>25116844.41</td>\n",
       "      <td>365880</td>\n",
       "      <td>4452</td>\n",
       "      <td>False</td>\n",
       "    </tr>\n",
       "    <tr>\n",
       "      <th>2</th>\n",
       "      <td>1</td>\n",
       "      <td>3</td>\n",
       "      <td>TX</td>\n",
       "      <td>64352278.29</td>\n",
       "      <td>10193873.77</td>\n",
       "      <td>33703499.83</td>\n",
       "      <td>365880</td>\n",
       "      <td>4452</td>\n",
       "      <td>False</td>\n",
       "    </tr>\n",
       "    <tr>\n",
       "      <th>3</th>\n",
       "      <td>1</td>\n",
       "      <td>4</td>\n",
       "      <td>TX</td>\n",
       "      <td>45943677.96</td>\n",
       "      <td>8764165.00</td>\n",
       "      <td>24037719.47</td>\n",
       "      <td>365880</td>\n",
       "      <td>4452</td>\n",
       "      <td>False</td>\n",
       "    </tr>\n",
       "    <tr>\n",
       "      <th>4</th>\n",
       "      <td>1</td>\n",
       "      <td>5</td>\n",
       "      <td>TX</td>\n",
       "      <td>32761434.98</td>\n",
       "      <td>8022116.43</td>\n",
       "      <td>16432119.18</td>\n",
       "      <td>365880</td>\n",
       "      <td>4452</td>\n",
       "      <td>False</td>\n",
       "    </tr>\n",
       "    <tr>\n",
       "      <th>5</th>\n",
       "      <td>1</td>\n",
       "      <td>6</td>\n",
       "      <td>TX</td>\n",
       "      <td>50677036.26</td>\n",
       "      <td>9763597.30</td>\n",
       "      <td>26233794.37</td>\n",
       "      <td>365880</td>\n",
       "      <td>4452</td>\n",
       "      <td>False</td>\n",
       "    </tr>\n",
       "    <tr>\n",
       "      <th>6</th>\n",
       "      <td>1</td>\n",
       "      <td>7</td>\n",
       "      <td>TX</td>\n",
       "      <td>28215465.22</td>\n",
       "      <td>8245679.54</td>\n",
       "      <td>14457234.12</td>\n",
       "      <td>365880</td>\n",
       "      <td>4452</td>\n",
       "      <td>False</td>\n",
       "    </tr>\n",
       "    <tr>\n",
       "      <th>7</th>\n",
       "      <td>1</td>\n",
       "      <td>8</td>\n",
       "      <td>TX</td>\n",
       "      <td>38955413.84</td>\n",
       "      <td>7863853.69</td>\n",
       "      <td>19744464.29</td>\n",
       "      <td>365880</td>\n",
       "      <td>4452</td>\n",
       "      <td>False</td>\n",
       "    </tr>\n",
       "    <tr>\n",
       "      <th>8</th>\n",
       "      <td>1</td>\n",
       "      <td>9</td>\n",
       "      <td>TX</td>\n",
       "      <td>43602895.19</td>\n",
       "      <td>9067861.36</td>\n",
       "      <td>22138203.51</td>\n",
       "      <td>365880</td>\n",
       "      <td>4452</td>\n",
       "      <td>False</td>\n",
       "    </tr>\n",
       "    <tr>\n",
       "      <th>9</th>\n",
       "      <td>1</td>\n",
       "      <td>10</td>\n",
       "      <td>TX</td>\n",
       "      <td>52406102.98</td>\n",
       "      <td>9062239.73</td>\n",
       "      <td>26246199.30</td>\n",
       "      <td>365880</td>\n",
       "      <td>4452</td>\n",
       "      <td>False</td>\n",
       "    </tr>\n",
       "    <tr>\n",
       "      <th>10</th>\n",
       "      <td>1</td>\n",
       "      <td>11</td>\n",
       "      <td>TX</td>\n",
       "      <td>35787752.27</td>\n",
       "      <td>8447265.61</td>\n",
       "      <td>18430895.18</td>\n",
       "      <td>365880</td>\n",
       "      <td>4452</td>\n",
       "      <td>False</td>\n",
       "    </tr>\n",
       "    <tr>\n",
       "      <th>11</th>\n",
       "      <td>1</td>\n",
       "      <td>12</td>\n",
       "      <td>TX</td>\n",
       "      <td>55301461.38</td>\n",
       "      <td>11659020.22</td>\n",
       "      <td>28549551.00</td>\n",
       "      <td>365880</td>\n",
       "      <td>4452</td>\n",
       "      <td>False</td>\n",
       "    </tr>\n",
       "  </tbody>\n",
       "</table>\n",
       "</div>"
      ],
      "text/plain": [
       "    Location number  Month State  Gross revenue   Fixed cost  Variable cost  \\\n",
       "0                 1      1    TX    48628171.02   9218156.69    24278189.23   \n",
       "1                 1      2    TX    48107179.24  10587747.35    25116844.41   \n",
       "2                 1      3    TX    64352278.29  10193873.77    33703499.83   \n",
       "3                 1      4    TX    45943677.96   8764165.00    24037719.47   \n",
       "4                 1      5    TX    32761434.98   8022116.43    16432119.18   \n",
       "5                 1      6    TX    50677036.26   9763597.30    26233794.37   \n",
       "6                 1      7    TX    28215465.22   8245679.54    14457234.12   \n",
       "7                 1      8    TX    38955413.84   7863853.69    19744464.29   \n",
       "8                 1      9    TX    43602895.19   9067861.36    22138203.51   \n",
       "9                 1     10    TX    52406102.98   9062239.73    26246199.30   \n",
       "10                1     11    TX    35787752.27   8447265.61    18430895.18   \n",
       "11                1     12    TX    55301461.38  11659020.22    28549551.00   \n",
       "\n",
       "    Rental cost  Number of products  Owned  \n",
       "0        365880                4452  False  \n",
       "1        365880                4452  False  \n",
       "2        365880                4452  False  \n",
       "3        365880                4452  False  \n",
       "4        365880                4452  False  \n",
       "5        365880                4452  False  \n",
       "6        365880                4452  False  \n",
       "7        365880                4452  False  \n",
       "8        365880                4452  False  \n",
       "9        365880                4452  False  \n",
       "10       365880                4452  False  \n",
       "11       365880                4452  False  "
      ]
     },
     "execution_count": 4,
     "metadata": {},
     "output_type": "execute_result"
    }
   ],
   "source": [
    "df.head(12)"
   ]
  },
  {
   "cell_type": "code",
   "execution_count": 5,
   "metadata": {},
   "outputs": [],
   "source": [
    "#Calculateing the rent-adjusted annual profit margin\n",
    "df['Profit Margin']=(100*(df['Gross revenue']-df['Fixed cost']-df['Variable cost']-df['Rental cost'])/df['Gross revenue']).round(2)"
   ]
  },
  {
   "cell_type": "code",
   "execution_count": 6,
   "metadata": {},
   "outputs": [],
   "source": [
    "y1= df.groupby('Location number')['Profit Margin'].mean()\n",
    "y2= df.groupby('Location number')['Profit Margin'].median()"
   ]
  },
  {
   "cell_type": "code",
   "execution_count": 7,
   "metadata": {},
   "outputs": [
    {
     "data": {
      "image/png": "[encoded data removed]",
      "text/plain": [
       "<Figure size 720x576 with 1 Axes>"
      ]
     },
     "metadata": {},
     "output_type": "display_data"
    }
   ],
   "source": [
    "import numpy as np\n",
    "import matplotlib.pyplot as plt\n",
    "plt.style.use('seaborn-deep')\n",
    "\n",
    "fig, axes = plt.subplots(figsize=(10,8))\n",
    "axes.set_title('Mean and Median Annual Profit Margin')\n",
    "plt.hist([y1,y2], bins=35, label=['mean', 'median'])\n",
    "plt.legend(loc='upper right')\n",
    "plt.show()"
   ]
  },
  {
   "cell_type": "markdown",
   "metadata": {},
   "source": [
    "## Shapiro-Wilk tests if a random sample came from a normal distribution"
   ]
  },
  {
   "cell_type": "code",
   "execution_count": 8,
   "metadata": {},
   "outputs": [],
   "source": [
    "from scipy import stats"
   ]
  },
  {
   "cell_type": "code",
   "execution_count": 9,
   "metadata": {},
   "outputs": [
    {
     "name": "stdout",
     "output_type": "stream",
     "text": [
      "The test statistic, the p-value for annual mean profit margin is :\n",
      "(0.9561271667480469, 1.994476228617259e-08)\n"
     ]
    }
   ],
   "source": [
    "print(\"The test statistic, the p-value for annual mean profit margin is :\")\n",
    "print(stats.shapiro(y1))"
   ]
  },
  {
   "cell_type": "code",
   "execution_count": 10,
   "metadata": {},
   "outputs": [
    {
     "name": "stdout",
     "output_type": "stream",
     "text": [
      "The test statistic, the p-value for annual median profit margin is :\n",
      "(0.9513421058654785, 4.859904922938085e-09)\n"
     ]
    }
   ],
   "source": [
    "print(\"The test statistic, the p-value for annual median profit margin is :\")\n",
    "print(stats.shapiro(y2))"
   ]
  },
  {
   "cell_type": "markdown",
   "metadata": {
    "colab_type": "text",
    "id": "C87O_5KQaO3m"
   },
   "source": [
    "# 2) Plot monthly and quarterly aggregate revenue across all stores"
   ]
  },
  {
   "cell_type": "code",
   "execution_count": 11,
   "metadata": {
    "colab": {},
    "colab_type": "code",
    "id": "ITOUGQ_k7P1h"
   },
   "outputs": [],
   "source": [
    "#Creating the column for quarter \n",
    "df['Quarter'] =(df['Month']-1)//3"
   ]
  },
  {
   "cell_type": "code",
   "execution_count": 12,
   "metadata": {
    "colab": {
     "base_uri": "https://localhost:8080/",
     "height": 34
    },
    "colab_type": "code",
    "id": "KjpLF4cxdJLg",
    "outputId": "ccb92818-0242-4a7c-b84f-bc4423ebdbfa"
   },
   "outputs": [
    {
     "data": {
      "text/plain": [
       "array([0, 1, 2, 3])"
      ]
     },
     "execution_count": 12,
     "metadata": {},
     "output_type": "execute_result"
    }
   ],
   "source": [
    "df.Quarter.unique()"
   ]
  },
  {
   "cell_type": "code",
   "execution_count": 13,
   "metadata": {
    "colab": {
     "base_uri": "https://localhost:8080/",
     "height": 317
    },
    "colab_type": "code",
    "id": "_9GMLCdl675X",
    "outputId": "24a26ffa-039e-4b4f-d016-2d7e27ca89b1"
   },
   "outputs": [
    {
     "data": {
      "text/plain": [
       "<matplotlib.axes._subplots.AxesSubplot at 0x122fa6e48>"
      ]
     },
     "execution_count": 13,
     "metadata": {},
     "output_type": "execute_result"
    },
    {
     "data": {
      "image/png": "[encoded data removed]",
      "text/plain": [
       "<Figure size 432x288 with 1 Axes>"
      ]
     },
     "metadata": {},
     "output_type": "display_data"
    }
   ],
   "source": [
    "df.groupby('Month')[['Gross revenue']].sum().round(2).plot.bar()"
   ]
  },
  {
   "cell_type": "code",
   "execution_count": 14,
   "metadata": {
    "colab": {
     "base_uri": "https://localhost:8080/",
     "height": 310
    },
    "colab_type": "code",
    "id": "7LMakGOSfBtc",
    "outputId": "a907dd45-c357-4b9e-806f-09888dffe652"
   },
   "outputs": [
    {
     "data": {
      "text/plain": [
       "<matplotlib.axes._subplots.AxesSubplot at 0x123160c50>"
      ]
     },
     "execution_count": 14,
     "metadata": {},
     "output_type": "execute_result"
    },
    {
     "data": {
      "image/png": "[encoded data removed]",
      "text/plain": [
       "<Figure size 432x288 with 1 Axes>"
      ]
     },
     "metadata": {},
     "output_type": "display_data"
    }
   ],
   "source": [
    "df.groupby('Quarter')[['Gross revenue']].sum().round(2).plot.bar()"
   ]
  },
  {
   "cell_type": "markdown",
   "metadata": {
    "colab_type": "text",
    "id": "_E7UFNSpFZZg"
   },
   "source": [
    "# Part 2 -  Cleaning the data\n",
    "## Impute an appropriate rental cost for each owned location and recalculate the rent-adjusted annual profit margin.  \n",
    "## For each rented location, the rental cost is the same across the year. In order to simply the problem I use the median fixed cost and variable cost for the 333 locations. "
   ]
  },
  {
   "cell_type": "code",
   "execution_count": 15,
   "metadata": {},
   "outputs": [],
   "source": [
    "monthly_rent =df.groupby(['Location number'])[['Fixed cost', 'Variable cost','Rental cost']].median().round(2)"
   ]
  },
  {
   "cell_type": "code",
   "execution_count": 16,
   "metadata": {},
   "outputs": [
    {
     "data": {
      "text/html": [
       "<div>\n",
       "<style scoped>\n",
       "    .dataframe tbody tr th:only-of-type {\n",
       "        vertical-align: middle;\n",
       "    }\n",
       "\n",
       "    .dataframe tbody tr th {\n",
       "        vertical-align: top;\n",
       "    }\n",
       "\n",
       "    .dataframe thead th {\n",
       "        text-align: right;\n",
       "    }\n",
       "</style>\n",
       "<table border=\"1\" class=\"dataframe\">\n",
       "  <thead>\n",
       "    <tr style=\"text-align: right;\">\n",
       "      <th></th>\n",
       "      <th>Fixed cost</th>\n",
       "      <th>Variable cost</th>\n",
       "      <th>Rental cost</th>\n",
       "    </tr>\n",
       "    <tr>\n",
       "      <th>Location number</th>\n",
       "      <th></th>\n",
       "      <th></th>\n",
       "      <th></th>\n",
       "    </tr>\n",
       "  </thead>\n",
       "  <tbody>\n",
       "    <tr>\n",
       "      <th>1</th>\n",
       "      <td>9065050.54</td>\n",
       "      <td>24157954.35</td>\n",
       "      <td>365880</td>\n",
       "    </tr>\n",
       "    <tr>\n",
       "      <th>2</th>\n",
       "      <td>6120907.30</td>\n",
       "      <td>15034245.43</td>\n",
       "      <td>65270</td>\n",
       "    </tr>\n",
       "    <tr>\n",
       "      <th>3</th>\n",
       "      <td>5133018.93</td>\n",
       "      <td>14942101.26</td>\n",
       "      <td>0</td>\n",
       "    </tr>\n",
       "    <tr>\n",
       "      <th>4</th>\n",
       "      <td>5347304.96</td>\n",
       "      <td>11552513.20</td>\n",
       "      <td>141410</td>\n",
       "    </tr>\n",
       "    <tr>\n",
       "      <th>5</th>\n",
       "      <td>3942744.56</td>\n",
       "      <td>8906394.02</td>\n",
       "      <td>74500</td>\n",
       "    </tr>\n",
       "    <tr>\n",
       "      <th>...</th>\n",
       "      <td>...</td>\n",
       "      <td>...</td>\n",
       "      <td>...</td>\n",
       "    </tr>\n",
       "    <tr>\n",
       "      <th>329</th>\n",
       "      <td>5489131.14</td>\n",
       "      <td>11406132.96</td>\n",
       "      <td>71970</td>\n",
       "    </tr>\n",
       "    <tr>\n",
       "      <th>330</th>\n",
       "      <td>5755458.78</td>\n",
       "      <td>12313428.34</td>\n",
       "      <td>224930</td>\n",
       "    </tr>\n",
       "    <tr>\n",
       "      <th>331</th>\n",
       "      <td>5682004.46</td>\n",
       "      <td>14620459.24</td>\n",
       "      <td>61270</td>\n",
       "    </tr>\n",
       "    <tr>\n",
       "      <th>332</th>\n",
       "      <td>4937496.66</td>\n",
       "      <td>14192911.54</td>\n",
       "      <td>172540</td>\n",
       "    </tr>\n",
       "    <tr>\n",
       "      <th>333</th>\n",
       "      <td>10788927.69</td>\n",
       "      <td>28720928.48</td>\n",
       "      <td>286920</td>\n",
       "    </tr>\n",
       "  </tbody>\n",
       "</table>\n",
       "<p>333 rows × 3 columns</p>\n",
       "</div>"
      ],
      "text/plain": [
       "                  Fixed cost  Variable cost  Rental cost\n",
       "Location number                                         \n",
       "1                 9065050.54    24157954.35       365880\n",
       "2                 6120907.30    15034245.43        65270\n",
       "3                 5133018.93    14942101.26            0\n",
       "4                 5347304.96    11552513.20       141410\n",
       "5                 3942744.56     8906394.02        74500\n",
       "...                      ...            ...          ...\n",
       "329               5489131.14    11406132.96        71970\n",
       "330               5755458.78    12313428.34       224930\n",
       "331               5682004.46    14620459.24        61270\n",
       "332               4937496.66    14192911.54       172540\n",
       "333              10788927.69    28720928.48       286920\n",
       "\n",
       "[333 rows x 3 columns]"
      ]
     },
     "execution_count": 16,
     "metadata": {},
     "output_type": "execute_result"
    }
   ],
   "source": [
    "monthly_rent"
   ]
  },
  {
   "cell_type": "code",
   "execution_count": 17,
   "metadata": {},
   "outputs": [],
   "source": [
    "rented =monthly_rent[monthly_rent['Rental cost']!=0]"
   ]
  },
  {
   "cell_type": "code",
   "execution_count": 18,
   "metadata": {},
   "outputs": [],
   "source": [
    "owned =monthly_rent[monthly_rent['Rental cost']==0]"
   ]
  },
  {
   "cell_type": "code",
   "execution_count": 19,
   "metadata": {},
   "outputs": [
    {
     "data": {
      "text/plain": [
       "(297, 3)"
      ]
     },
     "execution_count": 19,
     "metadata": {},
     "output_type": "execute_result"
    }
   ],
   "source": [
    "rented.shape"
   ]
  },
  {
   "cell_type": "code",
   "execution_count": 20,
   "metadata": {},
   "outputs": [
    {
     "data": {
      "text/plain": [
       "(36, 3)"
      ]
     },
     "execution_count": 20,
     "metadata": {},
     "output_type": "execute_result"
    }
   ],
   "source": [
    "owned.shape"
   ]
  },
  {
   "cell_type": "markdown",
   "metadata": {},
   "source": [
    "## Then for each owned location, I compare its median fixed cost and variable cost to the 297 rented location, to find the min sum of the square of two costs. And use the rented location's rental cost as the apporpriate rental cost for the owned location."
   ]
  },
  {
   "cell_type": "code",
   "execution_count": 21,
   "metadata": {},
   "outputs": [
    {
     "name": "stdout",
     "output_type": "stream",
     "text": [
      "Location  3\n",
      "adjusted rental price is  297190.0\n",
      " \n",
      "Location  9\n",
      "adjusted rental price is  226790.0\n",
      " \n",
      "Location  11\n",
      "adjusted rental price is  182610.0\n",
      " \n",
      "Location  21\n",
      "adjusted rental price is  165110.0\n",
      " \n",
      "Location  31\n",
      "adjusted rental price is  195840.0\n",
      " \n",
      "Location  39\n",
      "adjusted rental price is  535910.0\n",
      " \n",
      "Location  46\n",
      "adjusted rental price is  99320.0\n",
      " \n",
      "Location  48\n",
      "adjusted rental price is  324570.0\n",
      " \n",
      "Location  49\n",
      "adjusted rental price is  94190.0\n",
      " \n",
      "Location  51\n",
      "adjusted rental price is  50470.0\n",
      " \n",
      "Location  75\n",
      "adjusted rental price is  98720.0\n",
      " \n",
      "Location  81\n",
      "adjusted rental price is  262770.0\n",
      " \n",
      "Location  90\n",
      "adjusted rental price is  215350.0\n",
      " \n",
      "Location  103\n",
      "adjusted rental price is  73940.0\n",
      " \n",
      "Location  104\n",
      "adjusted rental price is  351820.0\n",
      " \n",
      "Location  107\n",
      "adjusted rental price is  175630.0\n",
      " \n",
      "Location  119\n",
      "adjusted rental price is  279370.0\n",
      " \n",
      "Location  130\n",
      "adjusted rental price is  140590.0\n",
      " \n",
      "Location  166\n",
      "adjusted rental price is  401920.0\n",
      " \n",
      "Location  171\n",
      "adjusted rental price is  301200.0\n",
      " \n",
      "Location  177\n",
      "adjusted rental price is  547010.0\n",
      " \n",
      "Location  180\n",
      "adjusted rental price is  301200.0\n",
      " \n",
      "Location  188\n",
      "adjusted rental price is  191440.0\n",
      " \n",
      "Location  189\n",
      "adjusted rental price is  101210.0\n",
      " \n",
      "Location  194\n",
      "adjusted rental price is  401920.0\n",
      " \n",
      "Location  219\n",
      "adjusted rental price is  159200.0\n",
      " \n",
      "Location  222\n",
      "adjusted rental price is  222960.0\n",
      " \n",
      "Location  225\n",
      "adjusted rental price is  107520.0\n",
      " \n",
      "Location  251\n",
      "adjusted rental price is  206220.0\n",
      " \n",
      "Location  256\n",
      "adjusted rental price is  235940.0\n",
      " \n",
      "Location  281\n",
      "adjusted rental price is  107350.0\n",
      " \n",
      "Location  292\n",
      "adjusted rental price is  147860.0\n",
      " \n",
      "Location  300\n",
      "adjusted rental price is  547010.0\n",
      " \n",
      "Location  314\n",
      "adjusted rental price is  111720.0\n",
      " \n",
      "Location  316\n",
      "adjusted rental price is  113600.0\n",
      " \n",
      "Location  323\n",
      "adjusted rental price is  84760.0\n",
      " \n"
     ]
    }
   ],
   "source": [
    "dct ={}\n",
    "for i, row in owned.iterrows():\n",
    "    print('Location ',i)\n",
    "    t= (rented - row)\n",
    "    t['sq'] = t['Fixed cost'].apply(lambda x: x*x)+ t['Variable cost'].apply(lambda x: x*x)\n",
    "    matchid = t['sq'].idxmin()\n",
    "    dct[i] = rented.loc[matchid]['Rental cost']\n",
    "    print('adjusted rental price is ',rented.loc[matchid]['Rental cost'])\n",
    "    print(\" \")"
   ]
  },
  {
   "cell_type": "code",
   "execution_count": 22,
   "metadata": {},
   "outputs": [
    {
     "data": {
      "text/plain": [
       "{3: 297190.0,\n",
       " 9: 226790.0,\n",
       " 11: 182610.0,\n",
       " 21: 165110.0,\n",
       " 31: 195840.0,\n",
       " 39: 535910.0,\n",
       " 46: 99320.0,\n",
       " 48: 324570.0,\n",
       " 49: 94190.0,\n",
       " 51: 50470.0,\n",
       " 75: 98720.0,\n",
       " 81: 262770.0,\n",
       " 90: 215350.0,\n",
       " 103: 73940.0,\n",
       " 104: 351820.0,\n",
       " 107: 175630.0,\n",
       " 119: 279370.0,\n",
       " 130: 140590.0,\n",
       " 166: 401920.0,\n",
       " 171: 301200.0,\n",
       " 177: 547010.0,\n",
       " 180: 301200.0,\n",
       " 188: 191440.0,\n",
       " 189: 101210.0,\n",
       " 194: 401920.0,\n",
       " 219: 159200.0,\n",
       " 222: 222960.0,\n",
       " 225: 107520.0,\n",
       " 251: 206220.0,\n",
       " 256: 235940.0,\n",
       " 281: 107350.0,\n",
       " 292: 147860.0,\n",
       " 300: 547010.0,\n",
       " 314: 111720.0,\n",
       " 316: 113600.0,\n",
       " 323: 84760.0}"
      ]
     },
     "execution_count": 22,
     "metadata": {},
     "output_type": "execute_result"
    }
   ],
   "source": [
    "dct"
   ]
  },
  {
   "cell_type": "code",
   "execution_count": 23,
   "metadata": {},
   "outputs": [
    {
     "data": {
      "text/html": [
       "<div>\n",
       "<style scoped>\n",
       "    .dataframe tbody tr th:only-of-type {\n",
       "        vertical-align: middle;\n",
       "    }\n",
       "\n",
       "    .dataframe tbody tr th {\n",
       "        vertical-align: top;\n",
       "    }\n",
       "\n",
       "    .dataframe thead th {\n",
       "        text-align: right;\n",
       "    }\n",
       "</style>\n",
       "<table border=\"1\" class=\"dataframe\">\n",
       "  <thead>\n",
       "    <tr style=\"text-align: right;\">\n",
       "      <th></th>\n",
       "      <th>Location number</th>\n",
       "      <th>Month</th>\n",
       "      <th>State</th>\n",
       "      <th>Gross revenue</th>\n",
       "      <th>Fixed cost</th>\n",
       "      <th>Variable cost</th>\n",
       "      <th>Rental cost</th>\n",
       "      <th>Number of products</th>\n",
       "      <th>Owned</th>\n",
       "      <th>Profit Margin</th>\n",
       "      <th>Quarter</th>\n",
       "    </tr>\n",
       "  </thead>\n",
       "  <tbody>\n",
       "    <tr>\n",
       "      <th>24</th>\n",
       "      <td>3</td>\n",
       "      <td>1</td>\n",
       "      <td>IL</td>\n",
       "      <td>30791018.69</td>\n",
       "      <td>6123108.00</td>\n",
       "      <td>17948338.14</td>\n",
       "      <td>0</td>\n",
       "      <td>4620</td>\n",
       "      <td>True</td>\n",
       "      <td>21.82</td>\n",
       "      <td>0</td>\n",
       "    </tr>\n",
       "    <tr>\n",
       "      <th>25</th>\n",
       "      <td>3</td>\n",
       "      <td>2</td>\n",
       "      <td>IL</td>\n",
       "      <td>23805331.16</td>\n",
       "      <td>5014361.53</td>\n",
       "      <td>13051817.38</td>\n",
       "      <td>0</td>\n",
       "      <td>4620</td>\n",
       "      <td>True</td>\n",
       "      <td>24.11</td>\n",
       "      <td>0</td>\n",
       "    </tr>\n",
       "    <tr>\n",
       "      <th>26</th>\n",
       "      <td>3</td>\n",
       "      <td>3</td>\n",
       "      <td>IL</td>\n",
       "      <td>33916624.99</td>\n",
       "      <td>6043273.71</td>\n",
       "      <td>19190769.99</td>\n",
       "      <td>0</td>\n",
       "      <td>4620</td>\n",
       "      <td>True</td>\n",
       "      <td>25.60</td>\n",
       "      <td>0</td>\n",
       "    </tr>\n",
       "    <tr>\n",
       "      <th>27</th>\n",
       "      <td>3</td>\n",
       "      <td>4</td>\n",
       "      <td>IL</td>\n",
       "      <td>24170582.83</td>\n",
       "      <td>5196755.17</td>\n",
       "      <td>13505396.58</td>\n",
       "      <td>0</td>\n",
       "      <td>4620</td>\n",
       "      <td>True</td>\n",
       "      <td>22.62</td>\n",
       "      <td>1</td>\n",
       "    </tr>\n",
       "    <tr>\n",
       "      <th>28</th>\n",
       "      <td>3</td>\n",
       "      <td>5</td>\n",
       "      <td>IL</td>\n",
       "      <td>24925332.00</td>\n",
       "      <td>4688566.82</td>\n",
       "      <td>14531349.44</td>\n",
       "      <td>0</td>\n",
       "      <td>4620</td>\n",
       "      <td>True</td>\n",
       "      <td>22.89</td>\n",
       "      <td>1</td>\n",
       "    </tr>\n",
       "    <tr>\n",
       "      <th>...</th>\n",
       "      <td>...</td>\n",
       "      <td>...</td>\n",
       "      <td>...</td>\n",
       "      <td>...</td>\n",
       "      <td>...</td>\n",
       "      <td>...</td>\n",
       "      <td>...</td>\n",
       "      <td>...</td>\n",
       "      <td>...</td>\n",
       "      <td>...</td>\n",
       "      <td>...</td>\n",
       "    </tr>\n",
       "    <tr>\n",
       "      <th>3871</th>\n",
       "      <td>323</td>\n",
       "      <td>8</td>\n",
       "      <td>IL</td>\n",
       "      <td>22194100.42</td>\n",
       "      <td>4586590.51</td>\n",
       "      <td>11232409.36</td>\n",
       "      <td>0</td>\n",
       "      <td>4664</td>\n",
       "      <td>True</td>\n",
       "      <td>28.72</td>\n",
       "      <td>2</td>\n",
       "    </tr>\n",
       "    <tr>\n",
       "      <th>3872</th>\n",
       "      <td>323</td>\n",
       "      <td>9</td>\n",
       "      <td>IL</td>\n",
       "      <td>22690822.00</td>\n",
       "      <td>5672584.18</td>\n",
       "      <td>10676641.22</td>\n",
       "      <td>0</td>\n",
       "      <td>4664</td>\n",
       "      <td>True</td>\n",
       "      <td>27.95</td>\n",
       "      <td>2</td>\n",
       "    </tr>\n",
       "    <tr>\n",
       "      <th>3873</th>\n",
       "      <td>323</td>\n",
       "      <td>10</td>\n",
       "      <td>IL</td>\n",
       "      <td>22318237.77</td>\n",
       "      <td>4834736.44</td>\n",
       "      <td>11101511.95</td>\n",
       "      <td>0</td>\n",
       "      <td>4664</td>\n",
       "      <td>True</td>\n",
       "      <td>28.60</td>\n",
       "      <td>3</td>\n",
       "    </tr>\n",
       "    <tr>\n",
       "      <th>3874</th>\n",
       "      <td>323</td>\n",
       "      <td>11</td>\n",
       "      <td>IL</td>\n",
       "      <td>19412797.72</td>\n",
       "      <td>4899314.22</td>\n",
       "      <td>9351323.91</td>\n",
       "      <td>0</td>\n",
       "      <td>4664</td>\n",
       "      <td>True</td>\n",
       "      <td>26.59</td>\n",
       "      <td>3</td>\n",
       "    </tr>\n",
       "    <tr>\n",
       "      <th>3875</th>\n",
       "      <td>323</td>\n",
       "      <td>12</td>\n",
       "      <td>IL</td>\n",
       "      <td>35090303.95</td>\n",
       "      <td>6476154.45</td>\n",
       "      <td>17873824.22</td>\n",
       "      <td>0</td>\n",
       "      <td>4664</td>\n",
       "      <td>True</td>\n",
       "      <td>30.61</td>\n",
       "      <td>3</td>\n",
       "    </tr>\n",
       "  </tbody>\n",
       "</table>\n",
       "<p>432 rows × 11 columns</p>\n",
       "</div>"
      ],
      "text/plain": [
       "      Location number  Month State  Gross revenue  Fixed cost  Variable cost  \\\n",
       "24                  3      1    IL    30791018.69  6123108.00    17948338.14   \n",
       "25                  3      2    IL    23805331.16  5014361.53    13051817.38   \n",
       "26                  3      3    IL    33916624.99  6043273.71    19190769.99   \n",
       "27                  3      4    IL    24170582.83  5196755.17    13505396.58   \n",
       "28                  3      5    IL    24925332.00  4688566.82    14531349.44   \n",
       "...               ...    ...   ...            ...         ...            ...   \n",
       "3871              323      8    IL    22194100.42  4586590.51    11232409.36   \n",
       "3872              323      9    IL    22690822.00  5672584.18    10676641.22   \n",
       "3873              323     10    IL    22318237.77  4834736.44    11101511.95   \n",
       "3874              323     11    IL    19412797.72  4899314.22     9351323.91   \n",
       "3875              323     12    IL    35090303.95  6476154.45    17873824.22   \n",
       "\n",
       "      Rental cost  Number of products  Owned  Profit Margin  Quarter  \n",
       "24              0                4620   True          21.82        0  \n",
       "25              0                4620   True          24.11        0  \n",
       "26              0                4620   True          25.60        0  \n",
       "27              0                4620   True          22.62        1  \n",
       "28              0                4620   True          22.89        1  \n",
       "...           ...                 ...    ...            ...      ...  \n",
       "3871            0                4664   True          28.72        2  \n",
       "3872            0                4664   True          27.95        2  \n",
       "3873            0                4664   True          28.60        3  \n",
       "3874            0                4664   True          26.59        3  \n",
       "3875            0                4664   True          30.61        3  \n",
       "\n",
       "[432 rows x 11 columns]"
      ]
     },
     "execution_count": 23,
     "metadata": {},
     "output_type": "execute_result"
    }
   ],
   "source": [
    "df[df.Owned==True]"
   ]
  },
  {
   "cell_type": "code",
   "execution_count": 24,
   "metadata": {},
   "outputs": [],
   "source": [
    "df['Adjusted Rental cost'] = df['Location number'].map(dct)"
   ]
  },
  {
   "cell_type": "code",
   "execution_count": 25,
   "metadata": {},
   "outputs": [],
   "source": [
    "df['Adjusted Rental cost'].fillna(df['Rental cost'], inplace=True)"
   ]
  },
  {
   "cell_type": "code",
   "execution_count": 26,
   "metadata": {},
   "outputs": [
    {
     "data": {
      "text/html": [
       "<div>\n",
       "<style scoped>\n",
       "    .dataframe tbody tr th:only-of-type {\n",
       "        vertical-align: middle;\n",
       "    }\n",
       "\n",
       "    .dataframe tbody tr th {\n",
       "        vertical-align: top;\n",
       "    }\n",
       "\n",
       "    .dataframe thead th {\n",
       "        text-align: right;\n",
       "    }\n",
       "</style>\n",
       "<table border=\"1\" class=\"dataframe\">\n",
       "  <thead>\n",
       "    <tr style=\"text-align: right;\">\n",
       "      <th></th>\n",
       "      <th>Location number</th>\n",
       "      <th>Month</th>\n",
       "      <th>State</th>\n",
       "      <th>Gross revenue</th>\n",
       "      <th>Fixed cost</th>\n",
       "      <th>Variable cost</th>\n",
       "      <th>Rental cost</th>\n",
       "      <th>Number of products</th>\n",
       "      <th>Owned</th>\n",
       "      <th>Profit Margin</th>\n",
       "      <th>Quarter</th>\n",
       "      <th>Adjusted Rental cost</th>\n",
       "    </tr>\n",
       "  </thead>\n",
       "  <tbody>\n",
       "    <tr>\n",
       "      <th>0</th>\n",
       "      <td>1</td>\n",
       "      <td>1</td>\n",
       "      <td>TX</td>\n",
       "      <td>48628171.02</td>\n",
       "      <td>9218156.69</td>\n",
       "      <td>24278189.23</td>\n",
       "      <td>365880</td>\n",
       "      <td>4452</td>\n",
       "      <td>False</td>\n",
       "      <td>30.37</td>\n",
       "      <td>0</td>\n",
       "      <td>365880.0</td>\n",
       "    </tr>\n",
       "    <tr>\n",
       "      <th>1</th>\n",
       "      <td>1</td>\n",
       "      <td>2</td>\n",
       "      <td>TX</td>\n",
       "      <td>48107179.24</td>\n",
       "      <td>10587747.35</td>\n",
       "      <td>25116844.41</td>\n",
       "      <td>365880</td>\n",
       "      <td>4452</td>\n",
       "      <td>False</td>\n",
       "      <td>25.02</td>\n",
       "      <td>0</td>\n",
       "      <td>365880.0</td>\n",
       "    </tr>\n",
       "    <tr>\n",
       "      <th>2</th>\n",
       "      <td>1</td>\n",
       "      <td>3</td>\n",
       "      <td>TX</td>\n",
       "      <td>64352278.29</td>\n",
       "      <td>10193873.77</td>\n",
       "      <td>33703499.83</td>\n",
       "      <td>365880</td>\n",
       "      <td>4452</td>\n",
       "      <td>False</td>\n",
       "      <td>31.22</td>\n",
       "      <td>0</td>\n",
       "      <td>365880.0</td>\n",
       "    </tr>\n",
       "    <tr>\n",
       "      <th>3</th>\n",
       "      <td>1</td>\n",
       "      <td>4</td>\n",
       "      <td>TX</td>\n",
       "      <td>45943677.96</td>\n",
       "      <td>8764165.00</td>\n",
       "      <td>24037719.47</td>\n",
       "      <td>365880</td>\n",
       "      <td>4452</td>\n",
       "      <td>False</td>\n",
       "      <td>27.81</td>\n",
       "      <td>1</td>\n",
       "      <td>365880.0</td>\n",
       "    </tr>\n",
       "    <tr>\n",
       "      <th>4</th>\n",
       "      <td>1</td>\n",
       "      <td>5</td>\n",
       "      <td>TX</td>\n",
       "      <td>32761434.98</td>\n",
       "      <td>8022116.43</td>\n",
       "      <td>16432119.18</td>\n",
       "      <td>365880</td>\n",
       "      <td>4452</td>\n",
       "      <td>False</td>\n",
       "      <td>24.24</td>\n",
       "      <td>1</td>\n",
       "      <td>365880.0</td>\n",
       "    </tr>\n",
       "  </tbody>\n",
       "</table>\n",
       "</div>"
      ],
      "text/plain": [
       "   Location number  Month State  Gross revenue   Fixed cost  Variable cost  \\\n",
       "0                1      1    TX    48628171.02   9218156.69    24278189.23   \n",
       "1                1      2    TX    48107179.24  10587747.35    25116844.41   \n",
       "2                1      3    TX    64352278.29  10193873.77    33703499.83   \n",
       "3                1      4    TX    45943677.96   8764165.00    24037719.47   \n",
       "4                1      5    TX    32761434.98   8022116.43    16432119.18   \n",
       "\n",
       "   Rental cost  Number of products  Owned  Profit Margin  Quarter  \\\n",
       "0       365880                4452  False          30.37        0   \n",
       "1       365880                4452  False          25.02        0   \n",
       "2       365880                4452  False          31.22        0   \n",
       "3       365880                4452  False          27.81        1   \n",
       "4       365880                4452  False          24.24        1   \n",
       "\n",
       "   Adjusted Rental cost  \n",
       "0              365880.0  \n",
       "1              365880.0  \n",
       "2              365880.0  \n",
       "3              365880.0  \n",
       "4              365880.0  "
      ]
     },
     "execution_count": 26,
     "metadata": {},
     "output_type": "execute_result"
    }
   ],
   "source": [
    "df.head()"
   ]
  },
  {
   "cell_type": "code",
   "execution_count": 27,
   "metadata": {},
   "outputs": [],
   "source": [
    "#Recalculateing the rent-adjusted annual profit margin\n",
    "df['Rent-adjusted Profit Margin']=(100*(df['Gross revenue']-df['Fixed cost']-df['Variable cost']-df['Adjusted Rental cost'])/df['Gross revenue']).round(2)"
   ]
  },
  {
   "cell_type": "code",
   "execution_count": 28,
   "metadata": {},
   "outputs": [
    {
     "data": {
      "text/html": [
       "<div>\n",
       "<style scoped>\n",
       "    .dataframe tbody tr th:only-of-type {\n",
       "        vertical-align: middle;\n",
       "    }\n",
       "\n",
       "    .dataframe tbody tr th {\n",
       "        vertical-align: top;\n",
       "    }\n",
       "\n",
       "    .dataframe thead th {\n",
       "        text-align: right;\n",
       "    }\n",
       "</style>\n",
       "<table border=\"1\" class=\"dataframe\">\n",
       "  <thead>\n",
       "    <tr style=\"text-align: right;\">\n",
       "      <th></th>\n",
       "      <th>Location number</th>\n",
       "      <th>Month</th>\n",
       "      <th>State</th>\n",
       "      <th>Gross revenue</th>\n",
       "      <th>Fixed cost</th>\n",
       "      <th>Variable cost</th>\n",
       "      <th>Rental cost</th>\n",
       "      <th>Number of products</th>\n",
       "      <th>Owned</th>\n",
       "      <th>Profit Margin</th>\n",
       "      <th>Quarter</th>\n",
       "      <th>Adjusted Rental cost</th>\n",
       "      <th>Rent-adjusted Profit Margin</th>\n",
       "    </tr>\n",
       "  </thead>\n",
       "  <tbody>\n",
       "    <tr>\n",
       "      <th>24</th>\n",
       "      <td>3</td>\n",
       "      <td>1</td>\n",
       "      <td>IL</td>\n",
       "      <td>30791018.69</td>\n",
       "      <td>6123108.00</td>\n",
       "      <td>17948338.14</td>\n",
       "      <td>0</td>\n",
       "      <td>4620</td>\n",
       "      <td>True</td>\n",
       "      <td>21.82</td>\n",
       "      <td>0</td>\n",
       "      <td>297190.0</td>\n",
       "      <td>20.86</td>\n",
       "    </tr>\n",
       "    <tr>\n",
       "      <th>25</th>\n",
       "      <td>3</td>\n",
       "      <td>2</td>\n",
       "      <td>IL</td>\n",
       "      <td>23805331.16</td>\n",
       "      <td>5014361.53</td>\n",
       "      <td>13051817.38</td>\n",
       "      <td>0</td>\n",
       "      <td>4620</td>\n",
       "      <td>True</td>\n",
       "      <td>24.11</td>\n",
       "      <td>0</td>\n",
       "      <td>297190.0</td>\n",
       "      <td>22.86</td>\n",
       "    </tr>\n",
       "    <tr>\n",
       "      <th>26</th>\n",
       "      <td>3</td>\n",
       "      <td>3</td>\n",
       "      <td>IL</td>\n",
       "      <td>33916624.99</td>\n",
       "      <td>6043273.71</td>\n",
       "      <td>19190769.99</td>\n",
       "      <td>0</td>\n",
       "      <td>4620</td>\n",
       "      <td>True</td>\n",
       "      <td>25.60</td>\n",
       "      <td>0</td>\n",
       "      <td>297190.0</td>\n",
       "      <td>24.72</td>\n",
       "    </tr>\n",
       "    <tr>\n",
       "      <th>27</th>\n",
       "      <td>3</td>\n",
       "      <td>4</td>\n",
       "      <td>IL</td>\n",
       "      <td>24170582.83</td>\n",
       "      <td>5196755.17</td>\n",
       "      <td>13505396.58</td>\n",
       "      <td>0</td>\n",
       "      <td>4620</td>\n",
       "      <td>True</td>\n",
       "      <td>22.62</td>\n",
       "      <td>1</td>\n",
       "      <td>297190.0</td>\n",
       "      <td>21.39</td>\n",
       "    </tr>\n",
       "    <tr>\n",
       "      <th>28</th>\n",
       "      <td>3</td>\n",
       "      <td>5</td>\n",
       "      <td>IL</td>\n",
       "      <td>24925332.00</td>\n",
       "      <td>4688566.82</td>\n",
       "      <td>14531349.44</td>\n",
       "      <td>0</td>\n",
       "      <td>4620</td>\n",
       "      <td>True</td>\n",
       "      <td>22.89</td>\n",
       "      <td>1</td>\n",
       "      <td>297190.0</td>\n",
       "      <td>21.70</td>\n",
       "    </tr>\n",
       "  </tbody>\n",
       "</table>\n",
       "</div>"
      ],
      "text/plain": [
       "    Location number  Month State  Gross revenue  Fixed cost  Variable cost  \\\n",
       "24                3      1    IL    30791018.69  6123108.00    17948338.14   \n",
       "25                3      2    IL    23805331.16  5014361.53    13051817.38   \n",
       "26                3      3    IL    33916624.99  6043273.71    19190769.99   \n",
       "27                3      4    IL    24170582.83  5196755.17    13505396.58   \n",
       "28                3      5    IL    24925332.00  4688566.82    14531349.44   \n",
       "\n",
       "    Rental cost  Number of products  Owned  Profit Margin  Quarter  \\\n",
       "24            0                4620   True          21.82        0   \n",
       "25            0                4620   True          24.11        0   \n",
       "26            0                4620   True          25.60        0   \n",
       "27            0                4620   True          22.62        1   \n",
       "28            0                4620   True          22.89        1   \n",
       "\n",
       "    Adjusted Rental cost  Rent-adjusted Profit Margin  \n",
       "24              297190.0                        20.86  \n",
       "25              297190.0                        22.86  \n",
       "26              297190.0                        24.72  \n",
       "27              297190.0                        21.39  \n",
       "28              297190.0                        21.70  "
      ]
     },
     "execution_count": 28,
     "metadata": {},
     "output_type": "execute_result"
    }
   ],
   "source": [
    "#Sanity check\n",
    "df[df.Owned==True].head()"
   ]
  },
  {
   "cell_type": "code",
   "execution_count": 29,
   "metadata": {},
   "outputs": [
    {
     "data": {
      "text/html": [
       "<div>\n",
       "<style scoped>\n",
       "    .dataframe tbody tr th:only-of-type {\n",
       "        vertical-align: middle;\n",
       "    }\n",
       "\n",
       "    .dataframe tbody tr th {\n",
       "        vertical-align: top;\n",
       "    }\n",
       "\n",
       "    .dataframe thead th {\n",
       "        text-align: right;\n",
       "    }\n",
       "</style>\n",
       "<table border=\"1\" class=\"dataframe\">\n",
       "  <thead>\n",
       "    <tr style=\"text-align: right;\">\n",
       "      <th></th>\n",
       "      <th>Location number</th>\n",
       "      <th>Month</th>\n",
       "      <th>State</th>\n",
       "      <th>Gross revenue</th>\n",
       "      <th>Fixed cost</th>\n",
       "      <th>Variable cost</th>\n",
       "      <th>Rental cost</th>\n",
       "      <th>Number of products</th>\n",
       "      <th>Owned</th>\n",
       "      <th>Profit Margin</th>\n",
       "      <th>Quarter</th>\n",
       "      <th>Adjusted Rental cost</th>\n",
       "      <th>Rent-adjusted Profit Margin</th>\n",
       "    </tr>\n",
       "  </thead>\n",
       "  <tbody>\n",
       "    <tr>\n",
       "      <th>0</th>\n",
       "      <td>1</td>\n",
       "      <td>1</td>\n",
       "      <td>TX</td>\n",
       "      <td>48628171.02</td>\n",
       "      <td>9218156.69</td>\n",
       "      <td>24278189.23</td>\n",
       "      <td>365880</td>\n",
       "      <td>4452</td>\n",
       "      <td>False</td>\n",
       "      <td>30.37</td>\n",
       "      <td>0</td>\n",
       "      <td>365880.0</td>\n",
       "      <td>30.37</td>\n",
       "    </tr>\n",
       "    <tr>\n",
       "      <th>1</th>\n",
       "      <td>1</td>\n",
       "      <td>2</td>\n",
       "      <td>TX</td>\n",
       "      <td>48107179.24</td>\n",
       "      <td>10587747.35</td>\n",
       "      <td>25116844.41</td>\n",
       "      <td>365880</td>\n",
       "      <td>4452</td>\n",
       "      <td>False</td>\n",
       "      <td>25.02</td>\n",
       "      <td>0</td>\n",
       "      <td>365880.0</td>\n",
       "      <td>25.02</td>\n",
       "    </tr>\n",
       "    <tr>\n",
       "      <th>2</th>\n",
       "      <td>1</td>\n",
       "      <td>3</td>\n",
       "      <td>TX</td>\n",
       "      <td>64352278.29</td>\n",
       "      <td>10193873.77</td>\n",
       "      <td>33703499.83</td>\n",
       "      <td>365880</td>\n",
       "      <td>4452</td>\n",
       "      <td>False</td>\n",
       "      <td>31.22</td>\n",
       "      <td>0</td>\n",
       "      <td>365880.0</td>\n",
       "      <td>31.22</td>\n",
       "    </tr>\n",
       "    <tr>\n",
       "      <th>3</th>\n",
       "      <td>1</td>\n",
       "      <td>4</td>\n",
       "      <td>TX</td>\n",
       "      <td>45943677.96</td>\n",
       "      <td>8764165.00</td>\n",
       "      <td>24037719.47</td>\n",
       "      <td>365880</td>\n",
       "      <td>4452</td>\n",
       "      <td>False</td>\n",
       "      <td>27.81</td>\n",
       "      <td>1</td>\n",
       "      <td>365880.0</td>\n",
       "      <td>27.81</td>\n",
       "    </tr>\n",
       "    <tr>\n",
       "      <th>4</th>\n",
       "      <td>1</td>\n",
       "      <td>5</td>\n",
       "      <td>TX</td>\n",
       "      <td>32761434.98</td>\n",
       "      <td>8022116.43</td>\n",
       "      <td>16432119.18</td>\n",
       "      <td>365880</td>\n",
       "      <td>4452</td>\n",
       "      <td>False</td>\n",
       "      <td>24.24</td>\n",
       "      <td>1</td>\n",
       "      <td>365880.0</td>\n",
       "      <td>24.24</td>\n",
       "    </tr>\n",
       "  </tbody>\n",
       "</table>\n",
       "</div>"
      ],
      "text/plain": [
       "   Location number  Month State  Gross revenue   Fixed cost  Variable cost  \\\n",
       "0                1      1    TX    48628171.02   9218156.69    24278189.23   \n",
       "1                1      2    TX    48107179.24  10587747.35    25116844.41   \n",
       "2                1      3    TX    64352278.29  10193873.77    33703499.83   \n",
       "3                1      4    TX    45943677.96   8764165.00    24037719.47   \n",
       "4                1      5    TX    32761434.98   8022116.43    16432119.18   \n",
       "\n",
       "   Rental cost  Number of products  Owned  Profit Margin  Quarter  \\\n",
       "0       365880                4452  False          30.37        0   \n",
       "1       365880                4452  False          25.02        0   \n",
       "2       365880                4452  False          31.22        0   \n",
       "3       365880                4452  False          27.81        1   \n",
       "4       365880                4452  False          24.24        1   \n",
       "\n",
       "   Adjusted Rental cost  Rent-adjusted Profit Margin  \n",
       "0              365880.0                        30.37  \n",
       "1              365880.0                        25.02  \n",
       "2              365880.0                        31.22  \n",
       "3              365880.0                        27.81  \n",
       "4              365880.0                        24.24  "
      ]
     },
     "execution_count": 29,
     "metadata": {},
     "output_type": "execute_result"
    }
   ],
   "source": [
    "df.head()"
   ]
  },
  {
   "cell_type": "code",
   "execution_count": 30,
   "metadata": {},
   "outputs": [
    {
     "data": {
      "text/html": [
       "<div>\n",
       "<style scoped>\n",
       "    .dataframe tbody tr th:only-of-type {\n",
       "        vertical-align: middle;\n",
       "    }\n",
       "\n",
       "    .dataframe tbody tr th {\n",
       "        vertical-align: top;\n",
       "    }\n",
       "\n",
       "    .dataframe thead th {\n",
       "        text-align: right;\n",
       "    }\n",
       "</style>\n",
       "<table border=\"1\" class=\"dataframe\">\n",
       "  <thead>\n",
       "    <tr style=\"text-align: right;\">\n",
       "      <th></th>\n",
       "      <th>Profit Margin</th>\n",
       "      <th>Rent-adjusted Profit Margin</th>\n",
       "    </tr>\n",
       "    <tr>\n",
       "      <th>Location number</th>\n",
       "      <th></th>\n",
       "      <th></th>\n",
       "    </tr>\n",
       "  </thead>\n",
       "  <tbody>\n",
       "    <tr>\n",
       "      <th>1</th>\n",
       "      <td>27.0</td>\n",
       "      <td>27.0</td>\n",
       "    </tr>\n",
       "    <tr>\n",
       "      <th>2</th>\n",
       "      <td>24.0</td>\n",
       "      <td>24.0</td>\n",
       "    </tr>\n",
       "    <tr>\n",
       "      <th>3</th>\n",
       "      <td>25.0</td>\n",
       "      <td>23.0</td>\n",
       "    </tr>\n",
       "    <tr>\n",
       "      <th>4</th>\n",
       "      <td>20.0</td>\n",
       "      <td>20.0</td>\n",
       "    </tr>\n",
       "    <tr>\n",
       "      <th>5</th>\n",
       "      <td>20.0</td>\n",
       "      <td>20.0</td>\n",
       "    </tr>\n",
       "    <tr>\n",
       "      <th>...</th>\n",
       "      <td>...</td>\n",
       "      <td>...</td>\n",
       "    </tr>\n",
       "    <tr>\n",
       "      <th>329</th>\n",
       "      <td>22.0</td>\n",
       "      <td>22.0</td>\n",
       "    </tr>\n",
       "    <tr>\n",
       "      <th>330</th>\n",
       "      <td>27.0</td>\n",
       "      <td>27.0</td>\n",
       "    </tr>\n",
       "    <tr>\n",
       "      <th>331</th>\n",
       "      <td>26.0</td>\n",
       "      <td>26.0</td>\n",
       "    </tr>\n",
       "    <tr>\n",
       "      <th>332</th>\n",
       "      <td>30.0</td>\n",
       "      <td>30.0</td>\n",
       "    </tr>\n",
       "    <tr>\n",
       "      <th>333</th>\n",
       "      <td>27.0</td>\n",
       "      <td>27.0</td>\n",
       "    </tr>\n",
       "  </tbody>\n",
       "</table>\n",
       "<p>333 rows × 2 columns</p>\n",
       "</div>"
      ],
      "text/plain": [
       "                 Profit Margin  Rent-adjusted Profit Margin\n",
       "Location number                                            \n",
       "1                         27.0                         27.0\n",
       "2                         24.0                         24.0\n",
       "3                         25.0                         23.0\n",
       "4                         20.0                         20.0\n",
       "5                         20.0                         20.0\n",
       "...                        ...                          ...\n",
       "329                       22.0                         22.0\n",
       "330                       27.0                         27.0\n",
       "331                       26.0                         26.0\n",
       "332                       30.0                         30.0\n",
       "333                       27.0                         27.0\n",
       "\n",
       "[333 rows x 2 columns]"
      ]
     },
     "execution_count": 30,
     "metadata": {},
     "output_type": "execute_result"
    }
   ],
   "source": [
    "df.groupby('Location number')[['Profit Margin','Rent-adjusted Profit Margin']].mean().round(0)"
   ]
  },
  {
   "cell_type": "code",
   "execution_count": 31,
   "metadata": {},
   "outputs": [
    {
     "data": {
      "text/html": [
       "<div>\n",
       "<style scoped>\n",
       "    .dataframe tbody tr th:only-of-type {\n",
       "        vertical-align: middle;\n",
       "    }\n",
       "\n",
       "    .dataframe tbody tr th {\n",
       "        vertical-align: top;\n",
       "    }\n",
       "\n",
       "    .dataframe thead th {\n",
       "        text-align: right;\n",
       "    }\n",
       "</style>\n",
       "<table border=\"1\" class=\"dataframe\">\n",
       "  <thead>\n",
       "    <tr style=\"text-align: right;\">\n",
       "      <th></th>\n",
       "      <th>Profit Margin</th>\n",
       "      <th>Rent-adjusted Profit Margin</th>\n",
       "    </tr>\n",
       "    <tr>\n",
       "      <th>Location number</th>\n",
       "      <th></th>\n",
       "      <th></th>\n",
       "    </tr>\n",
       "  </thead>\n",
       "  <tbody>\n",
       "    <tr>\n",
       "      <th>1</th>\n",
       "      <td>28.0</td>\n",
       "      <td>28.0</td>\n",
       "    </tr>\n",
       "    <tr>\n",
       "      <th>2</th>\n",
       "      <td>25.0</td>\n",
       "      <td>25.0</td>\n",
       "    </tr>\n",
       "    <tr>\n",
       "      <th>3</th>\n",
       "      <td>25.0</td>\n",
       "      <td>24.0</td>\n",
       "    </tr>\n",
       "    <tr>\n",
       "      <th>4</th>\n",
       "      <td>20.0</td>\n",
       "      <td>20.0</td>\n",
       "    </tr>\n",
       "    <tr>\n",
       "      <th>5</th>\n",
       "      <td>22.0</td>\n",
       "      <td>22.0</td>\n",
       "    </tr>\n",
       "    <tr>\n",
       "      <th>...</th>\n",
       "      <td>...</td>\n",
       "      <td>...</td>\n",
       "    </tr>\n",
       "    <tr>\n",
       "      <th>329</th>\n",
       "      <td>23.0</td>\n",
       "      <td>23.0</td>\n",
       "    </tr>\n",
       "    <tr>\n",
       "      <th>330</th>\n",
       "      <td>28.0</td>\n",
       "      <td>28.0</td>\n",
       "    </tr>\n",
       "    <tr>\n",
       "      <th>331</th>\n",
       "      <td>26.0</td>\n",
       "      <td>26.0</td>\n",
       "    </tr>\n",
       "    <tr>\n",
       "      <th>332</th>\n",
       "      <td>32.0</td>\n",
       "      <td>32.0</td>\n",
       "    </tr>\n",
       "    <tr>\n",
       "      <th>333</th>\n",
       "      <td>27.0</td>\n",
       "      <td>27.0</td>\n",
       "    </tr>\n",
       "  </tbody>\n",
       "</table>\n",
       "<p>333 rows × 2 columns</p>\n",
       "</div>"
      ],
      "text/plain": [
       "                 Profit Margin  Rent-adjusted Profit Margin\n",
       "Location number                                            \n",
       "1                         28.0                         28.0\n",
       "2                         25.0                         25.0\n",
       "3                         25.0                         24.0\n",
       "4                         20.0                         20.0\n",
       "5                         22.0                         22.0\n",
       "...                        ...                          ...\n",
       "329                       23.0                         23.0\n",
       "330                       28.0                         28.0\n",
       "331                       26.0                         26.0\n",
       "332                       32.0                         32.0\n",
       "333                       27.0                         27.0\n",
       "\n",
       "[333 rows x 2 columns]"
      ]
     },
     "execution_count": 31,
     "metadata": {},
     "output_type": "execute_result"
    }
   ],
   "source": [
    "df.groupby('Location number')[['Profit Margin','Rent-adjusted Profit Margin']].median().round(0)"
   ]
  },
  {
   "cell_type": "code",
   "execution_count": 32,
   "metadata": {},
   "outputs": [],
   "source": [
    "t1 =df.groupby('Location number')['Rent-adjusted Profit Margin'].mean()\n",
    "t2=df.groupby('Location number')['Profit Margin'].mean()"
   ]
  },
  {
   "cell_type": "code",
   "execution_count": 33,
   "metadata": {},
   "outputs": [
    {
     "data": {
      "image/png": "[encoded data removed]",
      "text/plain": [
       "<Figure size 720x576 with 1 Axes>"
      ]
     },
     "metadata": {},
     "output_type": "display_data"
    }
   ],
   "source": [
    "fig, axes = plt.subplots(figsize=(10,8))\n",
    "axes.set_title('Mean Annual Profit Margin with and without rent adjustment')\n",
    "plt.hist([t1,t2], bins=35, label=['Rent-adjusted Profit Margin', 'Profit Margin'])\n",
    "plt.legend(loc='upper right')\n",
    "plt.show()"
   ]
  },
  {
   "cell_type": "code",
   "execution_count": 34,
   "metadata": {},
   "outputs": [],
   "source": [
    "z1 =df.groupby('Location number')['Rent-adjusted Profit Margin'].median()\n",
    "z2=df.groupby('Location number')['Profit Margin'].median()"
   ]
  },
  {
   "cell_type": "code",
   "execution_count": 35,
   "metadata": {},
   "outputs": [
    {
     "data": {
      "image/png": "[encoded data removed]",
      "text/plain": [
       "<Figure size 720x576 with 1 Axes>"
      ]
     },
     "metadata": {},
     "output_type": "display_data"
    }
   ],
   "source": [
    "fig, axes = plt.subplots(figsize=(10,8))\n",
    "axes.set_title('Median Annual Profit Margin with and without Rent adjustment')\n",
    "plt.hist([z1,z2], bins=35, label=['Rent-adjusted Profit Margin', 'Profit Margin'])\n",
    "plt.legend(loc='upper right')\n",
    "plt.show()"
   ]
  },
  {
   "cell_type": "markdown",
   "metadata": {
    "colab_type": "text",
    "id": "_E7UFNSpFZZg"
   },
   "source": [
    "# Part 3 -  Quantify drivers of success\n",
    "##With the data now cleaned, please identify factors that have led to historical outperformance across locations. The CEO is principally focused on maximizing profit margin at each location. There is no single correct answer for this section."
   ]
  },
  {
   "cell_type": "code",
   "execution_count": 36,
   "metadata": {},
   "outputs": [
    {
     "data": {
      "text/plain": [
       "count    3996.000000\n",
       "mean       24.268544\n",
       "std         8.372154\n",
       "min       -65.260000\n",
       "25%        20.355000\n",
       "50%        25.520000\n",
       "75%        29.660000\n",
       "max        61.830000\n",
       "Name: Rent-adjusted Profit Margin, dtype: float64"
      ]
     },
     "execution_count": 36,
     "metadata": {},
     "output_type": "execute_result"
    }
   ],
   "source": [
    "df['Rent-adjusted Profit Margin'].describe()"
   ]
  },
  {
   "cell_type": "code",
   "execution_count": 37,
   "metadata": {},
   "outputs": [
    {
     "data": {
      "text/plain": [
       "242"
      ]
     },
     "execution_count": 37,
     "metadata": {},
     "output_type": "execute_result"
    }
   ],
   "source": [
    "df['Number of products'].nunique()"
   ]
  },
  {
   "cell_type": "code",
   "execution_count": 39,
   "metadata": {},
   "outputs": [
    {
     "data": {
      "text/plain": [
       "25.52"
      ]
     },
     "execution_count": 39,
     "metadata": {},
     "output_type": "execute_result"
    }
   ],
   "source": [
    "baseline=df['Rent-adjusted Profit Margin'].median().round(2)\n",
    "baseline"
   ]
  },
  {
   "cell_type": "code",
   "execution_count": 40,
   "metadata": {
    "colab": {},
    "colab_type": "code",
    "id": "ZV54KA7cnxdq"
   },
   "outputs": [],
   "source": [
    "df['outperform'] = np.where(df['Rent-adjusted Profit Margin'] >= baseline, 1, 0)"
   ]
  },
  {
   "cell_type": "markdown",
   "metadata": {
    "colab_type": "text",
    "id": "f998QJmLnxdu"
   },
   "source": [
    "I calculated a new variable called 'outperform' as my dependent variable y. I will treat it as binary classification challenge, since the ultimate goal is to identify factors that have led to historical outperformance across locations. Thus, I can create a dependent variable based on 'Rent-adjusted Profit Margin', it is 1 when 'Rent-adjusted Profit Margin'>= average Rent-adjusted Profit Margin, 0 otherwise. "
   ]
  },
  {
   "cell_type": "code",
   "execution_count": 41,
   "metadata": {
    "colab": {},
    "colab_type": "code",
    "id": "PfHtTjNJnxdv",
    "outputId": "89ea31ff-70b1-46ef-b78c-d8e8446344a5"
   },
   "outputs": [
    {
     "data": {
      "text/plain": [
       "1    2001\n",
       "0    1995\n",
       "Name: outperform, dtype: int64"
      ]
     },
     "execution_count": 41,
     "metadata": {},
     "output_type": "execute_result"
    }
   ],
   "source": [
    "df['outperform'].value_counts()"
   ]
  },
  {
   "cell_type": "code",
   "execution_count": 42,
   "metadata": {
    "colab": {},
    "colab_type": "code",
    "id": "r7jB6qCbnxdz",
    "outputId": "310aeeda-410c-4c3e-8af6-8be2f8c30f02"
   },
   "outputs": [
    {
     "name": "stdout",
     "output_type": "stream",
     "text": [
      "Prob of outperform 50.08 %\n",
      "Prob of below median 49.92 %\n"
     ]
    }
   ],
   "source": [
    "# Finding Base Probability of Default\n",
    "print ('Prob of outperform', (100*df['outperform'].sum()/df.shape[0]).round(2), '%')\n",
    "print ('Prob of below median',100-(100*df['outperform'].sum()/df.shape[0]).round(2), '%')"
   ]
  },
  {
   "cell_type": "markdown",
   "metadata": {},
   "source": [
    "Since we are using the median Rent-adjusted Profit Margin as cut-off, the dataset is pretty balanced "
   ]
  },
  {
   "cell_type": "code",
   "execution_count": 43,
   "metadata": {
    "colab": {},
    "colab_type": "code",
    "id": "hO3lmeBinxd2",
    "outputId": "aca802fe-624e-473a-95f0-3102050bcb83"
   },
   "outputs": [
    {
     "name": "stdout",
     "output_type": "stream",
     "text": [
      "Proportion: 1.0 : 1\n"
     ]
    },
    {
     "data": {
      "image/png": "[encoded data removed]",
      "text/plain": [
       "<Figure size 432x288 with 1 Axes>"
      ]
     },
     "metadata": {},
     "output_type": "display_data"
    }
   ],
   "source": [
    "print('Proportion:', round(df['outperform'].value_counts()[1] / df['outperform'].value_counts()[0], 2), ': 1')\n",
    "df['outperform'].value_counts().plot(kind='bar', title='Count (performance)');"
   ]
  },
  {
   "cell_type": "code",
   "execution_count": 44,
   "metadata": {},
   "outputs": [],
   "source": [
    "#Save a cleaned copy\n",
    "df.to_csv('cleaned_data.csv', index=False)"
   ]
  },
  {
   "cell_type": "markdown",
   "metadata": {
    "colab_type": "text",
    "id": "aaCteT3SnxeC"
   },
   "source": [
    "# Section 2: Data Cleaning"
   ]
  },
  {
   "cell_type": "code",
   "execution_count": null,
   "metadata": {},
   "outputs": [],
   "source": [
    "#df= pd.read_csv('cleaned_data.csv')"
   ]
  },
  {
   "cell_type": "code",
   "execution_count": 45,
   "metadata": {
    "colab": {},
    "colab_type": "code",
    "id": "urSkD4rOnxeR",
    "outputId": "9e513e65-b1a8-4db8-b8cb-f8d84b750e41"
   },
   "outputs": [],
   "source": [
    "#Separate the columns with numeric values and string values\n",
    "SCOL = [ 'Month', 'State','Owned']"
   ]
  },
  {
   "cell_type": "code",
   "execution_count": 46,
   "metadata": {
    "colab": {},
    "colab_type": "code",
    "id": "vwXsGXx7nxeV",
    "outputId": "b64c684e-e79d-44f2-bce5-fee16191875d"
   },
   "outputs": [
    {
     "data": {
      "text/html": [
       "<div>\n",
       "<style scoped>\n",
       "    .dataframe tbody tr th:only-of-type {\n",
       "        vertical-align: middle;\n",
       "    }\n",
       "\n",
       "    .dataframe tbody tr th {\n",
       "        vertical-align: top;\n",
       "    }\n",
       "\n",
       "    .dataframe thead th {\n",
       "        text-align: right;\n",
       "    }\n",
       "</style>\n",
       "<table border=\"1\" class=\"dataframe\">\n",
       "  <thead>\n",
       "    <tr style=\"text-align: right;\">\n",
       "      <th></th>\n",
       "      <th>Month</th>\n",
       "      <th>State</th>\n",
       "      <th>Owned</th>\n",
       "    </tr>\n",
       "  </thead>\n",
       "  <tbody>\n",
       "    <tr>\n",
       "      <th>0</th>\n",
       "      <td>1</td>\n",
       "      <td>TX</td>\n",
       "      <td>False</td>\n",
       "    </tr>\n",
       "    <tr>\n",
       "      <th>1</th>\n",
       "      <td>2</td>\n",
       "      <td>TX</td>\n",
       "      <td>False</td>\n",
       "    </tr>\n",
       "    <tr>\n",
       "      <th>2</th>\n",
       "      <td>3</td>\n",
       "      <td>TX</td>\n",
       "      <td>False</td>\n",
       "    </tr>\n",
       "    <tr>\n",
       "      <th>3</th>\n",
       "      <td>4</td>\n",
       "      <td>TX</td>\n",
       "      <td>False</td>\n",
       "    </tr>\n",
       "    <tr>\n",
       "      <th>4</th>\n",
       "      <td>5</td>\n",
       "      <td>TX</td>\n",
       "      <td>False</td>\n",
       "    </tr>\n",
       "    <tr>\n",
       "      <th>5</th>\n",
       "      <td>6</td>\n",
       "      <td>TX</td>\n",
       "      <td>False</td>\n",
       "    </tr>\n",
       "    <tr>\n",
       "      <th>6</th>\n",
       "      <td>7</td>\n",
       "      <td>TX</td>\n",
       "      <td>False</td>\n",
       "    </tr>\n",
       "    <tr>\n",
       "      <th>7</th>\n",
       "      <td>8</td>\n",
       "      <td>TX</td>\n",
       "      <td>False</td>\n",
       "    </tr>\n",
       "    <tr>\n",
       "      <th>8</th>\n",
       "      <td>9</td>\n",
       "      <td>TX</td>\n",
       "      <td>False</td>\n",
       "    </tr>\n",
       "    <tr>\n",
       "      <th>9</th>\n",
       "      <td>10</td>\n",
       "      <td>TX</td>\n",
       "      <td>False</td>\n",
       "    </tr>\n",
       "  </tbody>\n",
       "</table>\n",
       "</div>"
      ],
      "text/plain": [
       "   Month State  Owned\n",
       "0      1    TX  False\n",
       "1      2    TX  False\n",
       "2      3    TX  False\n",
       "3      4    TX  False\n",
       "4      5    TX  False\n",
       "5      6    TX  False\n",
       "6      7    TX  False\n",
       "7      8    TX  False\n",
       "8      9    TX  False\n",
       "9     10    TX  False"
      ]
     },
     "execution_count": 46,
     "metadata": {},
     "output_type": "execute_result"
    }
   ],
   "source": [
    "df[SCOL].head(10)"
   ]
  },
  {
   "cell_type": "code",
   "execution_count": 47,
   "metadata": {
    "colab": {},
    "colab_type": "code",
    "id": "cznSIlbSnxeZ",
    "outputId": "f9200040-f6ff-439e-d12a-5756b06c0a7e"
   },
   "outputs": [
    {
     "name": "stdout",
     "output_type": "stream",
     "text": [
      "Month    12\n",
      "State     7\n",
      "Owned     2\n",
      "dtype: int64\n",
      "AxesSubplot(0.125,0.125;0.775x0.755)\n"
     ]
    },
    {
     "data": {
      "image/png": "[encoded data removed]",
      "text/plain": [
       "<Figure size 432x288 with 1 Axes>"
      ]
     },
     "metadata": {},
     "output_type": "display_data"
    }
   ],
   "source": [
    "#Counting the unique values of the non-numeric columns\n",
    "pp.counting_uniques(df[SCOL])"
   ]
  },
  {
   "cell_type": "code",
   "execution_count": 48,
   "metadata": {
    "colab": {},
    "colab_type": "code",
    "id": "94o3qc0Nnxep",
    "outputId": "bf090c1f-81a2-43f5-f21d-86bbbeb62bc9"
   },
   "outputs": [
    {
     "data": {
      "text/plain": [
       "[]"
      ]
     },
     "execution_count": 48,
     "metadata": {},
     "output_type": "execute_result"
    }
   ],
   "source": [
    "cols_to_fill = pp.Detect_missing_value(df)\n",
    "cols_to_fill"
   ]
  },
  {
   "cell_type": "code",
   "execution_count": 49,
   "metadata": {},
   "outputs": [
    {
     "data": {
      "text/plain": [
       "Index(['Location number', 'Month', 'State', 'Gross revenue', 'Fixed cost',\n",
       "       'Variable cost', 'Rental cost', 'Number of products', 'Owned',\n",
       "       'Profit Margin', 'Quarter', 'Adjusted Rental cost',\n",
       "       'Rent-adjusted Profit Margin', 'outperform'],\n",
       "      dtype='object')"
      ]
     },
     "execution_count": 49,
     "metadata": {},
     "output_type": "execute_result"
    }
   ],
   "source": [
    "df.columns"
   ]
  },
  {
   "cell_type": "code",
   "execution_count": 50,
   "metadata": {},
   "outputs": [],
   "source": [
    "CATS = ['Number of products']"
   ]
  },
  {
   "cell_type": "code",
   "execution_count": 51,
   "metadata": {
    "colab": {},
    "colab_type": "code",
    "id": "7Sdb-uLAnxe2"
   },
   "outputs": [],
   "source": [
    "DROP_COLS= ['Location number','Quarter','Gross revenue', 'Fixed cost','Variable cost', 'Rental cost','Profit Margin','Adjusted Rental cost', 'Rent-adjusted Profit Margin'] "
   ]
  },
  {
   "cell_type": "code",
   "execution_count": 52,
   "metadata": {
    "colab": {},
    "colab_type": "code",
    "id": "gcETmNFhnxe5"
   },
   "outputs": [],
   "source": [
    "#Save a clean copy for later viz purpose\n",
    "viz_df = df.copy()"
   ]
  },
  {
   "cell_type": "code",
   "execution_count": 53,
   "metadata": {
    "colab": {},
    "colab_type": "code",
    "id": "_qMMQfPYnxe9",
    "outputId": "f67b0e54-dc16-4710-e48a-8bcf47ab0638"
   },
   "outputs": [
    {
     "name": "stdout",
     "output_type": "stream",
     "text": [
      "DROPPING THESE COLUMNS:  ['Location number', 'Quarter', 'Gross revenue', 'Fixed cost', 'Variable cost', 'Rental cost', 'Profit Margin', 'Adjusted Rental cost', 'Rent-adjusted Profit Margin']\n",
      " \n",
      "The following columns have been broken into dummies: ['Month', 'State', 'Owned']\n",
      " \n",
      "Discretizing the following variables:  ['Number of products']\n",
      " \n"
     ]
    }
   ],
   "source": [
    "# DROPPING COLUMNS NOT USED IN ANALYSIS\n",
    "print('DROPPING THESE COLUMNS: ', DROP_COLS)\n",
    "df = df.drop(DROP_COLS, axis = 1)\n",
    "print (' ')\n",
    "\n",
    "# CREATING DUMMIES\n",
    "print ('The following columns have been broken into dummies:' , SCOL)\n",
    "for dummy in SCOL:\n",
    "    df = pp.dummy_variable(dummy, df)\n",
    "print (' ')\n",
    "\n",
    "for category in CATS:\n",
    "    df = pp.bin_gen(df, category, '_bin', 'suffix' )\n",
    "print ('Discretizing the following variables: ', CATS)\n",
    "print (' ')"
   ]
  },
  {
   "cell_type": "code",
   "execution_count": 54,
   "metadata": {
    "colab": {},
    "colab_type": "code",
    "id": "QRO5JPubnxfA",
    "outputId": "27b31640-9477-4a0e-8d45-eaef26bb6ab9"
   },
   "outputs": [
    {
     "data": {
      "text/plain": [
       "Index(['outperform', 'Month1', 'Month2', 'Month3', 'Month4', 'Month5',\n",
       "       'Month6', 'Month7', 'Month8', 'Month9', 'Month10', 'Month11', 'Month12',\n",
       "       'StateCA', 'StateCO', 'StateGA', 'StateIL', 'StateNJ', 'StateTX',\n",
       "       'StateWA', 'OwnedFalse', 'OwnedTrue', 'Number of products_bin1',\n",
       "       'Number of products_bin2', 'Number of products_bin3',\n",
       "       'Number of products_bin4'],\n",
       "      dtype='object')"
      ]
     },
     "execution_count": 54,
     "metadata": {},
     "output_type": "execute_result"
    }
   ],
   "source": [
    "df.columns"
   ]
  },
  {
   "cell_type": "code",
   "execution_count": 55,
   "metadata": {
    "colab": {},
    "colab_type": "code",
    "id": "DoDBtVKWnxfJ",
    "outputId": "545163d9-d055-4554-e57b-588d1f58b656"
   },
   "outputs": [
    {
     "data": {
      "image/png": "[encoded data removed]",
      "text/plain": [
       "<Figure size 720x576 with 2 Axes>"
      ]
     },
     "metadata": {},
     "output_type": "display_data"
    }
   ],
   "source": [
    "pp.corr_matrix(df)"
   ]
  },
  {
   "cell_type": "markdown",
   "metadata": {
    "colab_type": "text",
    "id": "IwJ3g-gbnxfe"
   },
   "source": [
    "# Section 3: Analysis"
   ]
  },
  {
   "cell_type": "code",
   "execution_count": 56,
   "metadata": {
    "colab": {},
    "colab_type": "code",
    "id": "e35Aj5Mfnxff"
   },
   "outputs": [],
   "source": [
    "from sklearn.linear_model import LogisticRegression\n",
    "from sklearn.svm import SVC\n",
    "from sklearn.model_selection import train_test_split, ParameterGrid\n",
    "from sklearn.metrics import *\n",
    "import time"
   ]
  },
  {
   "cell_type": "markdown",
   "metadata": {
    "colab": {},
    "colab_type": "code",
    "id": "soLAu-k4nxfm"
   },
   "source": [
    "In our case we'll be regress the outperform column using number of products, and the month, state, owned dummy variables. We're going to treat month1, stateCA, OwnedFalse, Numberofproducts_bin1 as our baseline and exclude it from our fit. This is done to prevent multicollinearity, or the dummy variable trap caused by including a dummy variable for every single category."
   ]
  },
  {
   "cell_type": "code",
   "execution_count": 57,
   "metadata": {
    "colab": {},
    "colab_type": "code",
    "id": "Y2zmmtA1nxfD",
    "outputId": "21a29391-75c0-4e97-c289-a64ed62ded8a"
   },
   "outputs": [],
   "source": [
    "dropc =['Month1',  'StateCA',  'OwnedFalse', 'Number of products_bin1']"
   ]
  },
  {
   "cell_type": "code",
   "execution_count": 58,
   "metadata": {},
   "outputs": [
    {
     "name": "stdout",
     "output_type": "stream",
     "text": [
      "Dropping these columns to prevent multicollinearity:  ['Month1', 'StateCA', 'OwnedFalse', 'Number of products_bin1']\n"
     ]
    }
   ],
   "source": [
    "print('Dropping these columns to prevent multicollinearity: ', dropc)\n",
    "df = df.drop(dropc, axis = 1)"
   ]
  },
  {
   "cell_type": "code",
   "execution_count": 59,
   "metadata": {},
   "outputs": [],
   "source": [
    "# manually add the intercept\n",
    "df['intercept'] = 1.0"
   ]
  },
  {
   "cell_type": "code",
   "execution_count": 60,
   "metadata": {
    "colab": {},
    "colab_type": "code",
    "id": "0Nk8qOG1nxfM"
   },
   "outputs": [],
   "source": [
    "indepv = list(df.columns)\n",
    "indepv.remove('outperform')"
   ]
  },
  {
   "cell_type": "code",
   "execution_count": 61,
   "metadata": {},
   "outputs": [],
   "source": [
    "x=df[indepv]\n",
    "y=df['outperform']"
   ]
  },
  {
   "cell_type": "markdown",
   "metadata": {},
   "source": [
    "# Since I intepret this problem as correlation problem, I didn't do the train/test split for this data."
   ]
  },
  {
   "cell_type": "code",
   "execution_count": 104,
   "metadata": {},
   "outputs": [
    {
     "name": "stdout",
     "output_type": "stream",
     "text": [
      "                 Generalized Linear Model Regression Results                  \n",
      "==============================================================================\n",
      "Dep. Variable:             outperform   No. Observations:                 3996\n",
      "Model:                            GLM   Df Residuals:                     3974\n",
      "Model Family:                Binomial   Df Model:                           21\n",
      "Link Function:                  logit   Scale:                          1.0000\n",
      "Method:                          IRLS   Log-Likelihood:                -1844.4\n",
      "Date:                Sat, 14 Mar 2020   Deviance:                       3688.7\n",
      "Time:                        18:50:50   Pearson chi2:                 3.95e+03\n",
      "No. Iterations:                     5                                         \n",
      "Covariance Type:            nonrobust                                         \n",
      "===========================================================================================\n",
      "                              coef    std err          z      P>|z|      [0.025      0.975]\n",
      "-------------------------------------------------------------------------------------------\n",
      "Month2                      0.7697      0.200      3.850      0.000       0.378       1.162\n",
      "Month3                      1.1505      0.202      5.697      0.000       0.755       1.546\n",
      "Month4                      0.6905      0.200      3.459      0.001       0.299       1.082\n",
      "Month5                      1.1301      0.202      5.600      0.000       0.735       1.526\n",
      "Month6                      0.7499      0.200      3.752      0.000       0.358       1.142\n",
      "Month7                      0.4149      0.199      2.083      0.037       0.025       0.805\n",
      "Month8                      1.2938      0.203      6.373      0.000       0.896       1.692\n",
      "Month9                      0.8093      0.200      4.045      0.000       0.417       1.201\n",
      "Month10                     0.6905      0.200      3.459      0.001       0.299       1.082\n",
      "Month11                     0.1588      0.199      0.797      0.426      -0.232       0.549\n",
      "Month12                     0.6313      0.199      3.165      0.002       0.240       1.022\n",
      "StateCO                    -0.4255      0.203     -2.097      0.036      -0.823      -0.028\n",
      "StateGA                    -2.5023      0.153    -16.320      0.000      -2.803      -2.202\n",
      "StateIL                    -0.7829      0.134     -5.828      0.000      -1.046      -0.520\n",
      "StateNJ                    -2.5551      0.184    -13.892      0.000      -2.916      -2.195\n",
      "StateTX                     0.5888      0.117      5.033      0.000       0.359       0.818\n",
      "StateWA                    -0.8068      0.208     -3.870      0.000      -1.215      -0.398\n",
      "OwnedTrue                  -0.9608      0.154     -6.232      0.000      -1.263      -0.659\n",
      "Number of products_bin2     1.7183      0.120     14.350      0.000       1.484       1.953\n",
      "Number of products_bin3     2.6832      0.126     21.229      0.000       2.435       2.931\n",
      "Number of products_bin4     4.2401      0.161     26.350      0.000       3.925       4.555\n",
      "intercept                  -2.1694      0.184    -11.778      0.000      -2.530      -1.808\n",
      "===========================================================================================\n"
     ]
    }
   ],
   "source": [
    "model =sm.GLM(y, x, family=sm.families.Binomial())\n",
    "result=model.fit()\n",
    "print(result.summary())"
   ]
  },
  {
   "cell_type": "code",
   "execution_count": 102,
   "metadata": {},
   "outputs": [
    {
     "name": "stdout",
     "output_type": "stream",
     "text": [
      "Optimization terminated successfully.\n",
      "         Current function value: 0.461553\n",
      "         Iterations 6\n",
      "                           Logit Regression Results                           \n",
      "==============================================================================\n",
      "Dep. Variable:             outperform   No. Observations:                 3996\n",
      "Model:                          Logit   Df Residuals:                     3974\n",
      "Method:                           MLE   Df Model:                           21\n",
      "Date:                Sat, 14 Mar 2020   Pseudo R-squ.:                  0.3341\n",
      "Time:                        18:50:07   Log-Likelihood:                -1844.4\n",
      "converged:                       True   LL-Null:                       -2769.8\n",
      "Covariance Type:            nonrobust   LLR p-value:                     0.000\n",
      "===========================================================================================\n",
      "                              coef    std err          z      P>|z|      [0.025      0.975]\n",
      "-------------------------------------------------------------------------------------------\n",
      "Month2                      0.7697      0.200      3.850      0.000       0.378       1.162\n",
      "Month3                      1.1505      0.202      5.697      0.000       0.755       1.546\n",
      "Month4                      0.6905      0.200      3.459      0.001       0.299       1.082\n",
      "Month5                      1.1301      0.202      5.600      0.000       0.735       1.526\n",
      "Month6                      0.7499      0.200      3.752      0.000       0.358       1.142\n",
      "Month7                      0.4149      0.199      2.083      0.037       0.025       0.805\n",
      "Month8                      1.2938      0.203      6.373      0.000       0.896       1.692\n",
      "Month9                      0.8093      0.200      4.045      0.000       0.417       1.201\n",
      "Month10                     0.6905      0.200      3.459      0.001       0.299       1.082\n",
      "Month11                     0.1588      0.199      0.797      0.426      -0.232       0.549\n",
      "Month12                     0.6313      0.199      3.165      0.002       0.240       1.022\n",
      "StateCO                    -0.4255      0.203     -2.097      0.036      -0.823      -0.028\n",
      "StateGA                    -2.5023      0.153    -16.320      0.000      -2.803      -2.202\n",
      "StateIL                    -0.7829      0.134     -5.828      0.000      -1.046      -0.520\n",
      "StateNJ                    -2.5551      0.184    -13.892      0.000      -2.916      -2.195\n",
      "StateTX                     0.5888      0.117      5.033      0.000       0.359       0.818\n",
      "StateWA                    -0.8068      0.208     -3.870      0.000      -1.215      -0.398\n",
      "OwnedTrue                  -0.9608      0.154     -6.232      0.000      -1.263      -0.659\n",
      "Number of products_bin2     1.7183      0.120     14.350      0.000       1.484       1.953\n",
      "Number of products_bin3     2.6832      0.126     21.229      0.000       2.435       2.931\n",
      "Number of products_bin4     4.2401      0.161     26.350      0.000       3.925       4.555\n",
      "intercept                  -2.1694      0.184    -11.778      0.000      -2.530      -1.808\n",
      "===========================================================================================\n"
     ]
    }
   ],
   "source": [
    "import statsmodels.api as sm\n",
    "model = sm.Logit(y, x)\n",
    "logit_result = model.fit()\n",
    "print(logit_result.summary())"
   ]
  },
  {
   "cell_type": "code",
   "execution_count": 105,
   "metadata": {},
   "outputs": [
    {
     "data": {
      "text/plain": [
       "array([[1518.,  477.],\n",
       "       [ 398., 1603.]])"
      ]
     },
     "execution_count": 105,
     "metadata": {},
     "output_type": "execute_result"
    }
   ],
   "source": [
    "logit_result.pred_table()   "
   ]
  },
  {
   "cell_type": "code",
   "execution_count": 100,
   "metadata": {},
   "outputs": [
    {
     "name": "stdout",
     "output_type": "stream",
     "text": [
      "                            OLS Regression Results                            \n",
      "==============================================================================\n",
      "Dep. Variable:             outperform   R-squared:                       0.378\n",
      "Model:                            OLS   Adj. R-squared:                  0.374\n",
      "Method:                 Least Squares   F-statistic:                     114.8\n",
      "Date:                Sat, 14 Mar 2020   Prob (F-statistic):               0.00\n",
      "Time:                        18:45:55   Log-Likelihood:                -1953.1\n",
      "No. Observations:                3996   AIC:                             3950.\n",
      "Df Residuals:                    3974   BIC:                             4089.\n",
      "Df Model:                          21                                         \n",
      "Covariance Type:            nonrobust                                         \n",
      "===========================================================================================\n",
      "                              coef    std err          t      P>|t|      [0.025      0.975]\n",
      "-------------------------------------------------------------------------------------------\n",
      "Month2                      0.1171      0.031      3.820      0.000       0.057       0.177\n",
      "Month3                      0.1742      0.031      5.681      0.000       0.114       0.234\n",
      "Month4                      0.1051      0.031      3.428      0.001       0.045       0.165\n",
      "Month5                      0.1712      0.031      5.583      0.000       0.111       0.231\n",
      "Month6                      0.1141      0.031      3.722      0.000       0.054       0.174\n",
      "Month7                      0.0631      0.031      2.057      0.040       0.003       0.123\n",
      "Month8                      0.1952      0.031      6.367      0.000       0.135       0.255\n",
      "Month9                      0.1231      0.031      4.016      0.000       0.063       0.183\n",
      "Month10                     0.1051      0.031      3.428      0.001       0.045       0.165\n",
      "Month11                     0.0240      0.031      0.784      0.433      -0.036       0.084\n",
      "Month12                     0.0961      0.031      3.135      0.002       0.036       0.156\n",
      "StateCO                    -0.0663      0.033     -2.008      0.045      -0.131      -0.002\n",
      "StateGA                    -0.3830      0.021    -18.072      0.000      -0.425      -0.341\n",
      "StateIL                    -0.1193      0.021     -5.547      0.000      -0.161      -0.077\n",
      "StateNJ                    -0.3826      0.025    -15.414      0.000      -0.431      -0.334\n",
      "StateTX                     0.1016      0.018      5.512      0.000       0.065       0.138\n",
      "StateWA                    -0.1273      0.034     -3.769      0.000      -0.194      -0.061\n",
      "OwnedTrue                  -0.1266      0.023     -5.451      0.000      -0.172      -0.081\n",
      "Number of products_bin2     0.2733      0.018     15.450      0.000       0.239       0.308\n",
      "Number of products_bin3     0.4479      0.018     25.079      0.000       0.413       0.483\n",
      "Number of products_bin4     0.6737      0.020     34.468      0.000       0.635       0.712\n",
      "intercept                   0.1565      0.027      5.750      0.000       0.103       0.210\n",
      "==============================================================================\n",
      "Omnibus:                      243.920   Durbin-Watson:                   1.511\n",
      "Prob(Omnibus):                  0.000   Jarque-Bera (JB):               98.880\n",
      "Skew:                          -0.135   Prob(JB):                     3.38e-22\n",
      "Kurtosis:                       2.278   Cond. No.                         15.0\n",
      "==============================================================================\n",
      "\n",
      "Warnings:\n",
      "[1] Standard Errors assume that the covariance matrix of the errors is correctly specified.\n"
     ]
    }
   ],
   "source": [
    "ols_model = sm.OLS(y, x)\n",
    "ols_results = ols_model.fit()\n",
    "print(ols_results.summary())"
   ]
  },
  {
   "cell_type": "code",
   "execution_count": 66,
   "metadata": {},
   "outputs": [],
   "source": [
    "viz_df['ols_pred'] = ols_results.predict(x)"
   ]
  },
  {
   "cell_type": "code",
   "execution_count": 70,
   "metadata": {},
   "outputs": [],
   "source": [
    "viz_df['logit_pred'] = result.predict(x)"
   ]
  },
  {
   "cell_type": "code",
   "execution_count": 71,
   "metadata": {},
   "outputs": [
    {
     "data": {
      "text/html": [
       "<div>\n",
       "<style scoped>\n",
       "    .dataframe tbody tr th:only-of-type {\n",
       "        vertical-align: middle;\n",
       "    }\n",
       "\n",
       "    .dataframe tbody tr th {\n",
       "        vertical-align: top;\n",
       "    }\n",
       "\n",
       "    .dataframe thead th {\n",
       "        text-align: right;\n",
       "    }\n",
       "</style>\n",
       "<table border=\"1\" class=\"dataframe\">\n",
       "  <thead>\n",
       "    <tr style=\"text-align: right;\">\n",
       "      <th></th>\n",
       "      <th>Location number</th>\n",
       "      <th>Month</th>\n",
       "      <th>State</th>\n",
       "      <th>Gross revenue</th>\n",
       "      <th>Fixed cost</th>\n",
       "      <th>Variable cost</th>\n",
       "      <th>Rental cost</th>\n",
       "      <th>Number of products</th>\n",
       "      <th>Owned</th>\n",
       "      <th>Profit Margin</th>\n",
       "      <th>Quarter</th>\n",
       "      <th>Adjusted Rental cost</th>\n",
       "      <th>Rent-adjusted Profit Margin</th>\n",
       "      <th>outperform</th>\n",
       "      <th>ols_pred</th>\n",
       "      <th>logit_pred</th>\n",
       "    </tr>\n",
       "  </thead>\n",
       "  <tbody>\n",
       "    <tr>\n",
       "      <th>0</th>\n",
       "      <td>1</td>\n",
       "      <td>1</td>\n",
       "      <td>TX</td>\n",
       "      <td>48628171.02</td>\n",
       "      <td>9218156.69</td>\n",
       "      <td>24278189.23</td>\n",
       "      <td>365880</td>\n",
       "      <td>4452</td>\n",
       "      <td>False</td>\n",
       "      <td>30.37</td>\n",
       "      <td>0</td>\n",
       "      <td>365880.0</td>\n",
       "      <td>30.37</td>\n",
       "      <td>1</td>\n",
       "      <td>0.531453</td>\n",
       "      <td>0.534369</td>\n",
       "    </tr>\n",
       "    <tr>\n",
       "      <th>1</th>\n",
       "      <td>1</td>\n",
       "      <td>2</td>\n",
       "      <td>TX</td>\n",
       "      <td>48107179.24</td>\n",
       "      <td>10587747.35</td>\n",
       "      <td>25116844.41</td>\n",
       "      <td>365880</td>\n",
       "      <td>4452</td>\n",
       "      <td>False</td>\n",
       "      <td>25.02</td>\n",
       "      <td>0</td>\n",
       "      <td>365880.0</td>\n",
       "      <td>25.02</td>\n",
       "      <td>0</td>\n",
       "      <td>0.648570</td>\n",
       "      <td>0.712457</td>\n",
       "    </tr>\n",
       "    <tr>\n",
       "      <th>2</th>\n",
       "      <td>1</td>\n",
       "      <td>3</td>\n",
       "      <td>TX</td>\n",
       "      <td>64352278.29</td>\n",
       "      <td>10193873.77</td>\n",
       "      <td>33703499.83</td>\n",
       "      <td>365880</td>\n",
       "      <td>4452</td>\n",
       "      <td>False</td>\n",
       "      <td>31.22</td>\n",
       "      <td>0</td>\n",
       "      <td>365880.0</td>\n",
       "      <td>31.22</td>\n",
       "      <td>1</td>\n",
       "      <td>0.705627</td>\n",
       "      <td>0.783835</td>\n",
       "    </tr>\n",
       "    <tr>\n",
       "      <th>3</th>\n",
       "      <td>1</td>\n",
       "      <td>4</td>\n",
       "      <td>TX</td>\n",
       "      <td>45943677.96</td>\n",
       "      <td>8764165.00</td>\n",
       "      <td>24037719.47</td>\n",
       "      <td>365880</td>\n",
       "      <td>4452</td>\n",
       "      <td>False</td>\n",
       "      <td>27.81</td>\n",
       "      <td>1</td>\n",
       "      <td>365880.0</td>\n",
       "      <td>27.81</td>\n",
       "      <td>1</td>\n",
       "      <td>0.636558</td>\n",
       "      <td>0.695980</td>\n",
       "    </tr>\n",
       "    <tr>\n",
       "      <th>4</th>\n",
       "      <td>1</td>\n",
       "      <td>5</td>\n",
       "      <td>TX</td>\n",
       "      <td>32761434.98</td>\n",
       "      <td>8022116.43</td>\n",
       "      <td>16432119.18</td>\n",
       "      <td>365880</td>\n",
       "      <td>4452</td>\n",
       "      <td>False</td>\n",
       "      <td>24.24</td>\n",
       "      <td>1</td>\n",
       "      <td>365880.0</td>\n",
       "      <td>24.24</td>\n",
       "      <td>0</td>\n",
       "      <td>0.702624</td>\n",
       "      <td>0.780373</td>\n",
       "    </tr>\n",
       "  </tbody>\n",
       "</table>\n",
       "</div>"
      ],
      "text/plain": [
       "   Location number  Month State  Gross revenue   Fixed cost  Variable cost  \\\n",
       "0                1      1    TX    48628171.02   9218156.69    24278189.23   \n",
       "1                1      2    TX    48107179.24  10587747.35    25116844.41   \n",
       "2                1      3    TX    64352278.29  10193873.77    33703499.83   \n",
       "3                1      4    TX    45943677.96   8764165.00    24037719.47   \n",
       "4                1      5    TX    32761434.98   8022116.43    16432119.18   \n",
       "\n",
       "   Rental cost  Number of products  Owned  Profit Margin  Quarter  \\\n",
       "0       365880                4452  False          30.37        0   \n",
       "1       365880                4452  False          25.02        0   \n",
       "2       365880                4452  False          31.22        0   \n",
       "3       365880                4452  False          27.81        1   \n",
       "4       365880                4452  False          24.24        1   \n",
       "\n",
       "   Adjusted Rental cost  Rent-adjusted Profit Margin  outperform  ols_pred  \\\n",
       "0              365880.0                        30.37           1  0.531453   \n",
       "1              365880.0                        25.02           0  0.648570   \n",
       "2              365880.0                        31.22           1  0.705627   \n",
       "3              365880.0                        27.81           1  0.636558   \n",
       "4              365880.0                        24.24           0  0.702624   \n",
       "\n",
       "   logit_pred  \n",
       "0    0.534369  \n",
       "1    0.712457  \n",
       "2    0.783835  \n",
       "3    0.695980  \n",
       "4    0.780373  "
      ]
     },
     "execution_count": 71,
     "metadata": {},
     "output_type": "execute_result"
    }
   ],
   "source": [
    "viz_df.head()"
   ]
  },
  {
   "cell_type": "code",
   "execution_count": null,
   "metadata": {
    "colab": {},
    "colab_type": "code",
    "id": "qjfhn-i7nxf7"
   },
   "outputs": [],
   "source": []
  },
  {
   "cell_type": "code",
   "execution_count": 76,
   "metadata": {},
   "outputs": [],
   "source": [
    "def plot_df(df, columns, save=False):\n",
    "    for col in columns:\n",
    "        count_column = df[col].value_counts()\n",
    "        plt.figure(figsize=(len(count_column), 5))\n",
    "        column_figure = sns.barplot(count_column.index, count_column.values, alpha=0.8)\n",
    "        plt.title('{} values'.format(col))\n",
    "        plt.ylabel('Number of Counts', fontsize=12)\n",
    "        plt.xlabel(col, fontsize=12) \n",
    "\n",
    "        if save: \n",
    "            column_figure.figure.savefig('{}.png'.format(col))\n",
    "            print('figure is saved as a file ~.png')\n",
    "        else:\n",
    "            plt.show()\n",
    "    return None"
   ]
  },
  {
   "cell_type": "code",
   "execution_count": 83,
   "metadata": {
    "colab": {},
    "colab_type": "code",
    "id": "ekM-QBLsnxf9"
   },
   "outputs": [
    {
     "data": {
      "image/png": "[encoded data removed]",
      "text/plain": [
       "<Figure size 864x360 with 1 Axes>"
      ]
     },
     "metadata": {},
     "output_type": "display_data"
    },
    {
     "data": {
      "image/png": "[encoded data removed]",
      "text/plain": [
       "<Figure size 504x360 with 1 Axes>"
      ]
     },
     "metadata": {},
     "output_type": "display_data"
    },
    {
     "data": {
      "image/png": "[encoded data removed]",
      "text/plain": [
       "<Figure size 144x360 with 1 Axes>"
      ]
     },
     "metadata": {},
     "output_type": "display_data"
    }
   ],
   "source": [
    "plot_df(viz_df[df.outperform==1], see)"
   ]
  },
  {
   "cell_type": "code",
   "execution_count": 82,
   "metadata": {},
   "outputs": [],
   "source": [
    "see = [ 'Month', 'State',  'Owned']"
   ]
  },
  {
   "cell_type": "code",
   "execution_count": 95,
   "metadata": {},
   "outputs": [
    {
     "data": {
      "text/plain": [
       "array([[<matplotlib.axes._subplots.AxesSubplot object at 0x12c0a1588>]],\n",
       "      dtype=object)"
      ]
     },
     "execution_count": 95,
     "metadata": {},
     "output_type": "execute_result"
    },
    {
     "data": {
      "image/png": "[encoded data removed]",
      "text/plain": [
       "<Figure size 432x288 with 1 Axes>"
      ]
     },
     "metadata": {},
     "output_type": "display_data"
    }
   ],
   "source": [
    "viz_df.hist(column='Number of products',bins=40)"
   ]
  },
  {
   "cell_type": "code",
   "execution_count": 92,
   "metadata": {},
   "outputs": [
    {
     "data": {
      "text/plain": [
       "Index(['Location number', 'Month', 'State', 'Gross revenue', 'Fixed cost',\n",
       "       'Variable cost', 'Rental cost', 'Number of products', 'Owned',\n",
       "       'Profit Margin', 'Quarter', 'Adjusted Rental cost',\n",
       "       'Rent-adjusted Profit Margin', 'outperform', 'ols_pred', 'logit_pred'],\n",
       "      dtype='object')"
      ]
     },
     "execution_count": 92,
     "metadata": {},
     "output_type": "execute_result"
    }
   ],
   "source": [
    "viz_df.columns"
   ]
  },
  {
   "cell_type": "code",
   "execution_count": null,
   "metadata": {},
   "outputs": [],
   "source": []
  }
 ],
 "metadata": {
  "colab": {
   "collapsed_sections": [
    "aaCteT3SnxeC",
    "IwJ3g-gbnxfe",
    "fBawyFeynxfv"
   ],
   "name": "Blackstone_Take_Home_Assessment.ipynb",
   "provenance": []
  },
  "kernelspec": {
   "display_name": "Python 3",
   "language": "python",
   "name": "python3"
  },
  "language_info": {
   "codemirror_mode": {
    "name": "ipython",
    "version": 3
   },
   "file_extension": ".py",
   "mimetype": "text/x-python",
   "name": "python",
   "nbconvert_exporter": "python",
   "pygments_lexer": "ipython3",
   "version": "3.7.3"
  }
 },
 "nbformat": 4,
 "nbformat_minor": 1
}
